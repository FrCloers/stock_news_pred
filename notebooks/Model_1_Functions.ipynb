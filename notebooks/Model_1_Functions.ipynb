{
 "cells": [
  {
   "cell_type": "code",
   "execution_count": 1,
   "id": "86ca074d",
   "metadata": {},
   "outputs": [],
   "source": [
    "# Imports\n",
    "\n",
    "import pandas as pd\n",
    "import numpy as np\n",
    "import matplotlib.pyplot as plt\n",
    "import joblib\n",
    "from google.cloud import storage\n",
    "from sklearn.preprocessing import MinMaxScaler\n",
    "from tensorflow.keras.models import Sequential\n",
    "from tensorflow.keras.layers import Dense, LSTM, Dropout\n",
    "from sklearn.metrics import mean_squared_error, mean_absolute_error\n",
    "from tensorflow.keras.callbacks import EarlyStopping"
   ]
  },
  {
   "cell_type": "code",
   "execution_count": 2,
   "id": "84c57f39",
   "metadata": {},
   "outputs": [],
   "source": [
    "# Function to get data\n",
    "\n",
    "def get_stock_data_from_gcp(nrows=10000, local=False, optimize=False, **kwargs):\n",
    "    \"\"\"method to get the training data (or a portion of it) from google cloud bucket\"\"\"\n",
    "    # Add Client() here\n",
    "    client = storage.Client()\n",
    "    if local:\n",
    "        path = \"data/data_data_10Mill.csv\"\n",
    "    else:\n",
    "        path = \"gs://stock-news-pred-bucket/amazon_stock_price.csv\"\n",
    "    df = pd.read_csv(path)#add nrows after if you want to select a specific number of row\n",
    "    return df"
   ]
  },
  {
   "cell_type": "code",
   "execution_count": 3,
   "id": "0e84974c",
   "metadata": {},
   "outputs": [],
   "source": [
    "df = get_stock_data_from_gcp()"
   ]
  },
  {
   "cell_type": "code",
   "execution_count": 28,
   "id": "f49968b9",
   "metadata": {},
   "outputs": [
    {
     "data": {
      "text/html": [
       "<div>\n",
       "<style scoped>\n",
       "    .dataframe tbody tr th:only-of-type {\n",
       "        vertical-align: middle;\n",
       "    }\n",
       "\n",
       "    .dataframe tbody tr th {\n",
       "        vertical-align: top;\n",
       "    }\n",
       "\n",
       "    .dataframe thead th {\n",
       "        text-align: right;\n",
       "    }\n",
       "</style>\n",
       "<table border=\"1\" class=\"dataframe\">\n",
       "  <thead>\n",
       "    <tr style=\"text-align: right;\">\n",
       "      <th></th>\n",
       "      <th>date</th>\n",
       "      <th>AMZN</th>\n",
       "    </tr>\n",
       "  </thead>\n",
       "  <tbody>\n",
       "    <tr>\n",
       "      <th>0</th>\n",
       "      <td>2021-11-22</td>\n",
       "      <td>3572.57</td>\n",
       "    </tr>\n",
       "    <tr>\n",
       "      <th>1</th>\n",
       "      <td>2021-11-19</td>\n",
       "      <td>3676.57</td>\n",
       "    </tr>\n",
       "    <tr>\n",
       "      <th>2</th>\n",
       "      <td>2021-11-18</td>\n",
       "      <td>3696.06</td>\n",
       "    </tr>\n",
       "    <tr>\n",
       "      <th>3</th>\n",
       "      <td>2021-11-17</td>\n",
       "      <td>3549.00</td>\n",
       "    </tr>\n",
       "    <tr>\n",
       "      <th>4</th>\n",
       "      <td>2021-11-16</td>\n",
       "      <td>3540.70</td>\n",
       "    </tr>\n",
       "    <tr>\n",
       "      <th>...</th>\n",
       "      <td>...</td>\n",
       "      <td>...</td>\n",
       "    </tr>\n",
       "    <tr>\n",
       "      <th>5547</th>\n",
       "      <td>1999-11-05</td>\n",
       "      <td>64.94</td>\n",
       "    </tr>\n",
       "    <tr>\n",
       "      <th>5548</th>\n",
       "      <td>1999-11-04</td>\n",
       "      <td>63.06</td>\n",
       "    </tr>\n",
       "    <tr>\n",
       "      <th>5549</th>\n",
       "      <td>1999-11-03</td>\n",
       "      <td>65.81</td>\n",
       "    </tr>\n",
       "    <tr>\n",
       "      <th>5550</th>\n",
       "      <td>1999-11-02</td>\n",
       "      <td>66.44</td>\n",
       "    </tr>\n",
       "    <tr>\n",
       "      <th>5551</th>\n",
       "      <td>1999-11-01</td>\n",
       "      <td>69.13</td>\n",
       "    </tr>\n",
       "  </tbody>\n",
       "</table>\n",
       "<p>5552 rows × 2 columns</p>\n",
       "</div>"
      ],
      "text/plain": [
       "            date     AMZN\n",
       "0     2021-11-22  3572.57\n",
       "1     2021-11-19  3676.57\n",
       "2     2021-11-18  3696.06\n",
       "3     2021-11-17  3549.00\n",
       "4     2021-11-16  3540.70\n",
       "...          ...      ...\n",
       "5547  1999-11-05    64.94\n",
       "5548  1999-11-04    63.06\n",
       "5549  1999-11-03    65.81\n",
       "5550  1999-11-02    66.44\n",
       "5551  1999-11-01    69.13\n",
       "\n",
       "[5552 rows x 2 columns]"
      ]
     },
     "execution_count": 28,
     "metadata": {},
     "output_type": "execute_result"
    }
   ],
   "source": [
    "df"
   ]
  },
  {
   "cell_type": "code",
   "execution_count": 4,
   "id": "952aac78",
   "metadata": {},
   "outputs": [],
   "source": [
    "X = df[['AMZN']]"
   ]
  },
  {
   "cell_type": "code",
   "execution_count": 27,
   "id": "081fe906",
   "metadata": {},
   "outputs": [
    {
     "data": {
      "text/html": [
       "<div>\n",
       "<style scoped>\n",
       "    .dataframe tbody tr th:only-of-type {\n",
       "        vertical-align: middle;\n",
       "    }\n",
       "\n",
       "    .dataframe tbody tr th {\n",
       "        vertical-align: top;\n",
       "    }\n",
       "\n",
       "    .dataframe thead th {\n",
       "        text-align: right;\n",
       "    }\n",
       "</style>\n",
       "<table border=\"1\" class=\"dataframe\">\n",
       "  <thead>\n",
       "    <tr style=\"text-align: right;\">\n",
       "      <th></th>\n",
       "      <th>AMZN</th>\n",
       "    </tr>\n",
       "  </thead>\n",
       "  <tbody>\n",
       "    <tr>\n",
       "      <th>0</th>\n",
       "      <td>3572.57</td>\n",
       "    </tr>\n",
       "    <tr>\n",
       "      <th>1</th>\n",
       "      <td>3676.57</td>\n",
       "    </tr>\n",
       "    <tr>\n",
       "      <th>2</th>\n",
       "      <td>3696.06</td>\n",
       "    </tr>\n",
       "    <tr>\n",
       "      <th>3</th>\n",
       "      <td>3549.00</td>\n",
       "    </tr>\n",
       "    <tr>\n",
       "      <th>4</th>\n",
       "      <td>3540.70</td>\n",
       "    </tr>\n",
       "    <tr>\n",
       "      <th>...</th>\n",
       "      <td>...</td>\n",
       "    </tr>\n",
       "    <tr>\n",
       "      <th>5547</th>\n",
       "      <td>64.94</td>\n",
       "    </tr>\n",
       "    <tr>\n",
       "      <th>5548</th>\n",
       "      <td>63.06</td>\n",
       "    </tr>\n",
       "    <tr>\n",
       "      <th>5549</th>\n",
       "      <td>65.81</td>\n",
       "    </tr>\n",
       "    <tr>\n",
       "      <th>5550</th>\n",
       "      <td>66.44</td>\n",
       "    </tr>\n",
       "    <tr>\n",
       "      <th>5551</th>\n",
       "      <td>69.13</td>\n",
       "    </tr>\n",
       "  </tbody>\n",
       "</table>\n",
       "<p>5552 rows × 1 columns</p>\n",
       "</div>"
      ],
      "text/plain": [
       "         AMZN\n",
       "0     3572.57\n",
       "1     3676.57\n",
       "2     3696.06\n",
       "3     3549.00\n",
       "4     3540.70\n",
       "...       ...\n",
       "5547    64.94\n",
       "5548    63.06\n",
       "5549    65.81\n",
       "5550    66.44\n",
       "5551    69.13\n",
       "\n",
       "[5552 rows x 1 columns]"
      ]
     },
     "execution_count": 27,
     "metadata": {},
     "output_type": "execute_result"
    }
   ],
   "source": [
    "X"
   ]
  },
  {
   "cell_type": "code",
   "execution_count": 5,
   "id": "c5bd1af4",
   "metadata": {},
   "outputs": [],
   "source": [
    "# Function to scale data\n",
    "\n",
    "def scale_stock_data():\n",
    "    X = df[['AMZN']]\n",
    "    sc = MinMaxScaler()\n",
    "    X_sc = sc.fit_transform(X)\n",
    "    return X_sc"
   ]
  },
  {
   "cell_type": "code",
   "execution_count": 6,
   "id": "58428869",
   "metadata": {
    "scrolled": false
   },
   "outputs": [],
   "source": [
    "X_sc = scale_stock_data()"
   ]
  },
  {
   "cell_type": "code",
   "execution_count": 7,
   "id": "8e58d61a",
   "metadata": {},
   "outputs": [],
   "source": [
    "# Function to split data\n",
    "\n",
    "def split_stock_data(train_size):\n",
    "    index = round(train_size*X.shape[0])\n",
    "    X_sc_train = X_sc[:index]\n",
    "    X_sc_test = X_sc[index:]\n",
    "    return X_sc_train, X_sc_test"
   ]
  },
  {
   "cell_type": "code",
   "execution_count": 8,
   "id": "55e1de7f",
   "metadata": {},
   "outputs": [],
   "source": [
    "X_sc_train, X_sc_test = split_stock_data(0.8)"
   ]
  },
  {
   "cell_type": "code",
   "execution_count": 9,
   "id": "113f52e2",
   "metadata": {},
   "outputs": [
    {
     "name": "stdout",
     "output_type": "stream",
     "text": [
      "(4442, 1)\n",
      "(1110, 1)\n"
     ]
    }
   ],
   "source": [
    "print(X_sc_train.shape)\n",
    "print(X_sc_test.shape)"
   ]
  },
  {
   "cell_type": "code",
   "execution_count": 10,
   "id": "37d22456",
   "metadata": {},
   "outputs": [],
   "source": [
    "# Function to reshape train data\n",
    "\n",
    "def reshape_train_data(obs):\n",
    "    X_train = []\n",
    "    y_train = []\n",
    "    for i in range(obs, X_sc_train.shape[0]):\n",
    "        X_train.append(X_sc_train[i-obs:i, 0])\n",
    "        y_train.append(X_sc_train[i, 0])\n",
    "    X_train, y_train = np.array(X_train), np.array(y_train)\n",
    "    X_train = np.reshape(X_train, (X_train.shape[0], X_train.shape[1], 1))\n",
    "    return X_train, y_train"
   ]
  },
  {
   "cell_type": "code",
   "execution_count": 11,
   "id": "40ac516a",
   "metadata": {},
   "outputs": [],
   "source": [
    "X_train, y_train = reshape_train_data(30)"
   ]
  },
  {
   "cell_type": "code",
   "execution_count": 12,
   "id": "f61ca5f1",
   "metadata": {},
   "outputs": [
    {
     "name": "stdout",
     "output_type": "stream",
     "text": [
      "(4412, 30, 1)\n",
      "(4412,)\n"
     ]
    }
   ],
   "source": [
    "print(X_train.shape)\n",
    "print(y_train.shape)"
   ]
  },
  {
   "cell_type": "code",
   "execution_count": 13,
   "id": "81f00c81",
   "metadata": {},
   "outputs": [],
   "source": [
    "# Function to reshape test data\n",
    "\n",
    "def reshape_test_data(obs):\n",
    "    X_test = []\n",
    "    y_test = []\n",
    "    for i in range(obs, X_sc_test.shape[0]):\n",
    "        X_test.append(X_sc_test[i-obs:i, 0])\n",
    "        y_test.append(X_sc_test[i, 0])\n",
    "    X_test, y_test = np.array(X_test), np.array(y_test)\n",
    "    X_test = np.reshape(X_test, (X_test.shape[0], X_test.shape[1], 1))\n",
    "    return X_test, y_test"
   ]
  },
  {
   "cell_type": "code",
   "execution_count": 14,
   "id": "36bcfd4c",
   "metadata": {},
   "outputs": [],
   "source": [
    "X_test, y_test = reshape_test_data(30)"
   ]
  },
  {
   "cell_type": "code",
   "execution_count": 15,
   "id": "99a0a3db",
   "metadata": {},
   "outputs": [
    {
     "name": "stdout",
     "output_type": "stream",
     "text": [
      "(1080, 30, 1)\n",
      "(1080,)\n"
     ]
    }
   ],
   "source": [
    "print(X_test.shape)\n",
    "print(y_test.shape)"
   ]
  },
  {
   "cell_type": "code",
   "execution_count": 16,
   "id": "a99d0a7d",
   "metadata": {},
   "outputs": [],
   "source": [
    "# Function to inverse transform\n",
    "\n",
    "def inverse_transformer(y):\n",
    "    y = np.c_[y, np.ones(len(y))]\n",
    "    y = scaler.inverse_transform(y)\n",
    "    y = y[:,0]\n",
    "    return y"
   ]
  },
  {
   "cell_type": "code",
   "execution_count": 17,
   "id": "a722974a",
   "metadata": {},
   "outputs": [],
   "source": [
    "# Function to build the model\n",
    "\n",
    "def lstm_model():\n",
    "    model = Sequential()\n",
    "    model.add(LSTM(units = 50, return_sequences = True))\n",
    "    model.add(Dropout(0.2))\n",
    "    model.add(LSTM(units = 50, return_sequences = True))\n",
    "    model.add(Dropout(0.2))\n",
    "    model.add(LSTM(units = 50, return_sequences = True))\n",
    "    model.add(Dropout(0.2))\n",
    "    model.add(LSTM(units = 50))\n",
    "    model.add(Dropout(0.2))\n",
    "    model.add(Dense(units = 1))\n",
    "    model.compile(optimizer = 'adam', loss = 'mean_squared_error')\n",
    "    return model"
   ]
  },
  {
   "cell_type": "code",
   "execution_count": 18,
   "id": "44de5ef3",
   "metadata": {},
   "outputs": [],
   "source": [
    "#model = lstm_model()"
   ]
  },
  {
   "cell_type": "code",
   "execution_count": 19,
   "id": "42078284",
   "metadata": {},
   "outputs": [],
   "source": [
    "# Function to train the model\n",
    "\n",
    "def train_model():\n",
    "    model = lstm_model()\n",
    "    es = EarlyStopping(patience=30, restore_best_weights=True)\n",
    "    model.fit(X_train, y_train, validation_split=0.2, epochs=100, batch_size=32, callbacks=[es], verbose=1)\n",
    "    return model"
   ]
  },
  {
   "cell_type": "code",
   "execution_count": 29,
   "id": "c6410b1a",
   "metadata": {},
   "outputs": [],
   "source": [
    "# Function to predict and plot results\n",
    "\n",
    "def predict_model():\n",
    "    train_model()\n",
    "    predicted_stock_price = model.predict(X_test)\n",
    "    predicted_stock_price = sc.inverse_transform(predicted_stock_price)\n",
    "    return predicted_stock_price"
   ]
  },
  {
   "cell_type": "code",
   "execution_count": 21,
   "id": "ce6c68f6",
   "metadata": {},
   "outputs": [
    {
     "name": "stdout",
     "output_type": "stream",
     "text": [
      "Epoch 1/100\n"
     ]
    },
    {
     "name": "stderr",
     "output_type": "stream",
     "text": [
      "2021-11-30 16:49:00.506314: I tensorflow/core/platform/cpu_feature_guard.cc:142] This TensorFlow binary is optimized with oneAPI Deep Neural Network Library (oneDNN) to use the following CPU instructions in performance-critical operations:  AVX2 FMA\n",
      "To enable them in other operations, rebuild TensorFlow with the appropriate compiler flags.\n",
      "2021-11-30 16:49:00.576379: I tensorflow/compiler/mlir/mlir_graph_optimization_pass.cc:176] None of the MLIR Optimization Passes are enabled (registered 2)\n"
     ]
    },
    {
     "name": "stdout",
     "output_type": "stream",
     "text": [
      "111/111 [==============================] - 12s 50ms/step - loss: 0.0063 - val_loss: 3.6851e-05\n",
      "Epoch 2/100\n",
      "111/111 [==============================] - 4s 40ms/step - loss: 0.0018 - val_loss: 3.8359e-05\n",
      "Epoch 3/100\n",
      "111/111 [==============================] - 5s 42ms/step - loss: 0.0017 - val_loss: 4.8381e-06\n",
      "Epoch 4/100\n",
      "111/111 [==============================] - 5s 47ms/step - loss: 0.0013 - val_loss: 5.8744e-05\n",
      "Epoch 5/100\n",
      "111/111 [==============================] - 5s 44ms/step - loss: 0.0015 - val_loss: 1.5050e-05\n",
      "Epoch 6/100\n",
      "111/111 [==============================] - 4s 39ms/step - loss: 0.0014 - val_loss: 1.3637e-04\n",
      "Epoch 7/100\n",
      "111/111 [==============================] - 4s 39ms/step - loss: 0.0014 - val_loss: 3.7408e-05\n",
      "Epoch 8/100\n",
      "111/111 [==============================] - 4s 39ms/step - loss: 0.0011 - val_loss: 4.3352e-05\n",
      "Epoch 9/100\n",
      "111/111 [==============================] - 4s 40ms/step - loss: 0.0012 - val_loss: 1.0541e-05\n",
      "Epoch 10/100\n",
      "111/111 [==============================] - 5s 41ms/step - loss: 0.0013 - val_loss: 3.6489e-06\n",
      "Epoch 11/100\n",
      "111/111 [==============================] - 4s 39ms/step - loss: 0.0012 - val_loss: 3.8706e-05\n",
      "Epoch 12/100\n",
      "111/111 [==============================] - 4s 39ms/step - loss: 0.0011 - val_loss: 1.3318e-05\n",
      "Epoch 13/100\n",
      "111/111 [==============================] - 4s 39ms/step - loss: 0.0010 - val_loss: 3.2156e-05\n",
      "Epoch 14/100\n",
      "111/111 [==============================] - 4s 40ms/step - loss: 0.0011 - val_loss: 1.2064e-05\n",
      "Epoch 15/100\n",
      "111/111 [==============================] - 4s 40ms/step - loss: 0.0011 - val_loss: 1.7156e-04\n",
      "Epoch 16/100\n",
      "111/111 [==============================] - 4s 40ms/step - loss: 0.0010 - val_loss: 1.4527e-04\n",
      "Epoch 17/100\n",
      "111/111 [==============================] - 4s 40ms/step - loss: 0.0011 - val_loss: 8.9591e-06\n",
      "Epoch 18/100\n",
      "111/111 [==============================] - 5s 41ms/step - loss: 9.4679e-04 - val_loss: 4.1356e-05\n",
      "Epoch 19/100\n",
      "111/111 [==============================] - 4s 39ms/step - loss: 0.0010 - val_loss: 2.0728e-04\n",
      "Epoch 20/100\n",
      "111/111 [==============================] - 4s 40ms/step - loss: 9.9404e-04 - val_loss: 6.6161e-05\n",
      "Epoch 21/100\n",
      "111/111 [==============================] - 4s 40ms/step - loss: 8.9634e-04 - val_loss: 1.3525e-04\n",
      "Epoch 22/100\n",
      "111/111 [==============================] - 4s 39ms/step - loss: 9.8758e-04 - val_loss: 5.9741e-05\n",
      "Epoch 23/100\n",
      "111/111 [==============================] - 4s 40ms/step - loss: 0.0010 - val_loss: 8.3409e-06\n",
      "Epoch 24/100\n",
      "111/111 [==============================] - 4s 40ms/step - loss: 8.5692e-04 - val_loss: 2.3805e-06\n",
      "Epoch 25/100\n",
      "111/111 [==============================] - 4s 40ms/step - loss: 9.3121e-04 - val_loss: 6.8016e-07\n",
      "Epoch 26/100\n",
      "111/111 [==============================] - 4s 40ms/step - loss: 8.1011e-04 - val_loss: 2.2195e-05\n",
      "Epoch 27/100\n",
      "111/111 [==============================] - 4s 40ms/step - loss: 7.8533e-04 - val_loss: 5.5221e-05\n",
      "Epoch 28/100\n",
      "111/111 [==============================] - 5s 41ms/step - loss: 8.4458e-04 - val_loss: 1.5259e-04\n",
      "Epoch 29/100\n",
      "111/111 [==============================] - 4s 40ms/step - loss: 7.7360e-04 - val_loss: 7.7771e-05\n",
      "Epoch 30/100\n",
      "111/111 [==============================] - 4s 39ms/step - loss: 9.1780e-04 - val_loss: 1.1868e-06\n",
      "Epoch 31/100\n",
      "111/111 [==============================] - 5s 41ms/step - loss: 9.7415e-04 - val_loss: 1.0730e-06\n",
      "Epoch 32/100\n",
      "111/111 [==============================] - 6s 52ms/step - loss: 8.0719e-04 - val_loss: 3.8346e-05\n",
      "Epoch 33/100\n",
      "111/111 [==============================] - 5s 49ms/step - loss: 7.7537e-04 - val_loss: 6.6259e-05\n",
      "Epoch 34/100\n",
      "111/111 [==============================] - 4s 37ms/step - loss: 7.8548e-04 - val_loss: 1.2778e-06\n",
      "Epoch 35/100\n",
      "111/111 [==============================] - 4s 37ms/step - loss: 7.2574e-04 - val_loss: 2.4656e-05\n",
      "Epoch 36/100\n",
      "111/111 [==============================] - 4s 36ms/step - loss: 7.3857e-04 - val_loss: 8.0553e-04\n",
      "Epoch 37/100\n",
      "111/111 [==============================] - 4s 39ms/step - loss: 7.4295e-04 - val_loss: 1.4727e-04\n",
      "Epoch 38/100\n",
      "111/111 [==============================] - 4s 37ms/step - loss: 7.9424e-04 - val_loss: 3.0191e-04\n",
      "Epoch 39/100\n",
      "111/111 [==============================] - 4s 40ms/step - loss: 7.6935e-04 - val_loss: 2.1507e-05\n",
      "Epoch 40/100\n",
      "111/111 [==============================] - 4s 38ms/step - loss: 8.1256e-04 - val_loss: 4.3800e-05\n",
      "Epoch 41/100\n",
      "111/111 [==============================] - 5s 41ms/step - loss: 8.0717e-04 - val_loss: 1.8628e-05\n",
      "Epoch 42/100\n",
      "111/111 [==============================] - 4s 40ms/step - loss: 7.6511e-04 - val_loss: 1.3384e-05\n",
      "Epoch 43/100\n",
      "111/111 [==============================] - 4s 40ms/step - loss: 7.2283e-04 - val_loss: 3.0824e-04\n",
      "Epoch 44/100\n",
      "111/111 [==============================] - 5s 45ms/step - loss: 7.5197e-04 - val_loss: 1.3666e-04\n",
      "Epoch 45/100\n",
      "111/111 [==============================] - 5s 44ms/step - loss: 7.0249e-04 - val_loss: 2.1032e-05\n",
      "Epoch 46/100\n",
      "111/111 [==============================] - 5s 42ms/step - loss: 7.9525e-04 - val_loss: 8.1919e-06\n",
      "Epoch 47/100\n",
      "111/111 [==============================] - 5s 45ms/step - loss: 6.8863e-04 - val_loss: 2.0465e-04\n",
      "Epoch 48/100\n",
      "111/111 [==============================] - 5s 46ms/step - loss: 7.0181e-04 - val_loss: 1.5899e-06\n",
      "Epoch 49/100\n",
      "111/111 [==============================] - 5s 41ms/step - loss: 8.3833e-04 - val_loss: 9.5302e-05\n",
      "Epoch 50/100\n",
      "111/111 [==============================] - 5s 42ms/step - loss: 7.2832e-04 - val_loss: 4.0755e-05\n",
      "Epoch 51/100\n",
      "111/111 [==============================] - 5s 44ms/step - loss: 7.7837e-04 - val_loss: 2.3651e-04\n",
      "Epoch 52/100\n",
      "111/111 [==============================] - 4s 39ms/step - loss: 6.3593e-04 - val_loss: 5.7028e-05\n",
      "Epoch 53/100\n",
      "111/111 [==============================] - 5s 41ms/step - loss: 6.5831e-04 - val_loss: 1.0291e-04\n",
      "Epoch 54/100\n",
      "111/111 [==============================] - 5s 41ms/step - loss: 6.7970e-04 - val_loss: 1.0044e-04\n",
      "Epoch 55/100\n",
      "111/111 [==============================] - 5s 42ms/step - loss: 7.8879e-04 - val_loss: 6.2237e-06\n"
     ]
    },
    {
     "data": {
      "text/plain": [
       "<tensorflow.python.keras.engine.sequential.Sequential at 0x1514cea30>"
      ]
     },
     "execution_count": 21,
     "metadata": {},
     "output_type": "execute_result"
    }
   ],
   "source": [
    "train_model()"
   ]
  },
  {
   "cell_type": "code",
   "execution_count": null,
   "id": "7f913c1b",
   "metadata": {},
   "outputs": [],
   "source": [
    "#y_transformed = inverse_transformer(y_test)"
   ]
  },
  {
   "cell_type": "code",
   "execution_count": 31,
   "id": "eec86d8f",
   "metadata": {},
   "outputs": [
    {
     "name": "stdout",
     "output_type": "stream",
     "text": [
      "Epoch 1/100\n",
      "111/111 [==============================] - 15s 71ms/step - loss: 0.0060 - val_loss: 7.4093e-06\n",
      "Epoch 2/100\n",
      "111/111 [==============================] - 6s 57ms/step - loss: 0.0019 - val_loss: 2.3394e-05\n",
      "Epoch 3/100\n",
      "111/111 [==============================] - 6s 57ms/step - loss: 0.0018 - val_loss: 1.2723e-05\n",
      "Epoch 4/100\n",
      "111/111 [==============================] - 8s 69ms/step - loss: 0.0016 - val_loss: 9.0876e-05\n",
      "Epoch 5/100\n",
      "111/111 [==============================] - 7s 61ms/step - loss: 0.0017 - val_loss: 3.3361e-04\n",
      "Epoch 6/100\n",
      "111/111 [==============================] - 7s 60ms/step - loss: 0.0014 - val_loss: 1.5810e-05\n",
      "Epoch 7/100\n",
      "111/111 [==============================] - 7s 62ms/step - loss: 0.0013 - val_loss: 1.3423e-04\n",
      "Epoch 8/100\n",
      "111/111 [==============================] - 7s 63ms/step - loss: 0.0013 - val_loss: 1.5921e-06\n",
      "Epoch 9/100\n",
      "111/111 [==============================] - 7s 64ms/step - loss: 0.0010 - val_loss: 5.6370e-06\n",
      "Epoch 10/100\n",
      "111/111 [==============================] - 7s 66ms/step - loss: 0.0011 - val_loss: 1.2233e-04\n",
      "Epoch 11/100\n",
      "111/111 [==============================] - 7s 65ms/step - loss: 0.0014 - val_loss: 8.0155e-06\n",
      "Epoch 12/100\n",
      "111/111 [==============================] - 7s 60ms/step - loss: 0.0010 - val_loss: 1.2694e-04\n",
      "Epoch 13/100\n",
      "111/111 [==============================] - 6s 57ms/step - loss: 0.0010 - val_loss: 6.0347e-05\n",
      "Epoch 14/100\n",
      "111/111 [==============================] - 7s 60ms/step - loss: 0.0011 - val_loss: 2.3516e-05\n",
      "Epoch 15/100\n",
      "111/111 [==============================] - 7s 60ms/step - loss: 0.0012 - val_loss: 8.4299e-07\n",
      "Epoch 16/100\n",
      "111/111 [==============================] - 7s 61ms/step - loss: 9.4854e-04 - val_loss: 2.2174e-04\n",
      "Epoch 17/100\n",
      "111/111 [==============================] - 7s 61ms/step - loss: 9.9196e-04 - val_loss: 2.9630e-05\n",
      "Epoch 18/100\n",
      "111/111 [==============================] - 7s 64ms/step - loss: 9.6235e-04 - val_loss: 2.6707e-04\n",
      "Epoch 19/100\n",
      "111/111 [==============================] - 7s 60ms/step - loss: 0.0010 - val_loss: 1.1068e-05\n",
      "Epoch 20/100\n",
      "111/111 [==============================] - 9s 83ms/step - loss: 9.8410e-04 - val_loss: 2.7267e-04\n",
      "Epoch 21/100\n",
      "111/111 [==============================] - 9s 80ms/step - loss: 9.9798e-04 - val_loss: 6.9967e-07\n",
      "Epoch 22/100\n",
      "111/111 [==============================] - 9s 77ms/step - loss: 8.2117e-04 - val_loss: 1.5037e-05\n",
      "Epoch 23/100\n",
      "111/111 [==============================] - 12s 105ms/step - loss: 8.3324e-04 - val_loss: 1.0735e-05\n",
      "Epoch 24/100\n",
      "111/111 [==============================] - 10s 95ms/step - loss: 8.9034e-04 - val_loss: 4.3618e-05\n",
      "Epoch 25/100\n",
      "111/111 [==============================] - 8s 76ms/step - loss: 0.0010 - val_loss: 2.7184e-04\n",
      "Epoch 26/100\n",
      "111/111 [==============================] - 7s 67ms/step - loss: 9.9277e-04 - val_loss: 4.2933e-05\n",
      "Epoch 27/100\n",
      "111/111 [==============================] - 8s 68ms/step - loss: 8.5703e-04 - val_loss: 8.2834e-05\n",
      "Epoch 28/100\n",
      "111/111 [==============================] - 8s 69ms/step - loss: 8.7109e-04 - val_loss: 5.1382e-05\n",
      "Epoch 29/100\n",
      "111/111 [==============================] - 7s 62ms/step - loss: 9.3340e-04 - val_loss: 9.7218e-06\n",
      "Epoch 30/100\n",
      "111/111 [==============================] - 7s 63ms/step - loss: 9.6445e-04 - val_loss: 1.3721e-04\n",
      "Epoch 31/100\n",
      "111/111 [==============================] - 8s 68ms/step - loss: 0.0010 - val_loss: 6.1212e-05\n",
      "Epoch 32/100\n",
      "111/111 [==============================] - 7s 67ms/step - loss: 7.6787e-04 - val_loss: 1.0521e-06\n",
      "Epoch 33/100\n",
      "111/111 [==============================] - 8s 73ms/step - loss: 8.0066e-04 - val_loss: 9.0786e-05\n",
      "Epoch 34/100\n",
      "111/111 [==============================] - 9s 79ms/step - loss: 8.5853e-04 - val_loss: 5.2046e-07\n",
      "Epoch 35/100\n",
      "111/111 [==============================] - 9s 81ms/step - loss: 9.3976e-04 - val_loss: 3.3846e-05\n",
      "Epoch 36/100\n",
      "111/111 [==============================] - 8s 74ms/step - loss: 8.1042e-04 - val_loss: 2.3294e-06\n",
      "Epoch 37/100\n",
      "111/111 [==============================] - 8s 75ms/step - loss: 7.6284e-04 - val_loss: 9.8996e-06\n",
      "Epoch 38/100\n",
      "111/111 [==============================] - 8s 76ms/step - loss: 7.6202e-04 - val_loss: 4.6584e-06\n",
      "Epoch 39/100\n",
      "111/111 [==============================] - 7s 64ms/step - loss: 8.0011e-04 - val_loss: 5.9285e-05\n",
      "Epoch 40/100\n",
      "111/111 [==============================] - 8s 73ms/step - loss: 8.7158e-04 - val_loss: 6.1320e-04\n",
      "Epoch 41/100\n",
      "111/111 [==============================] - 8s 68ms/step - loss: 7.7275e-04 - val_loss: 1.1170e-05\n",
      "Epoch 42/100\n",
      "111/111 [==============================] - 7s 60ms/step - loss: 7.9119e-04 - val_loss: 4.2781e-04\n",
      "Epoch 43/100\n",
      "111/111 [==============================] - 6s 57ms/step - loss: 7.6931e-04 - val_loss: 4.0760e-05\n",
      "Epoch 44/100\n",
      "111/111 [==============================] - 6s 57ms/step - loss: 8.0089e-04 - val_loss: 1.1012e-04\n",
      "Epoch 45/100\n",
      "111/111 [==============================] - 6s 57ms/step - loss: 7.9261e-04 - val_loss: 2.7569e-04\n",
      "Epoch 46/100\n",
      "111/111 [==============================] - 6s 58ms/step - loss: 8.1253e-04 - val_loss: 4.8566e-05\n",
      "Epoch 47/100\n",
      "111/111 [==============================] - 6s 57ms/step - loss: 8.8311e-04 - val_loss: 3.3436e-05\n",
      "Epoch 48/100\n",
      "111/111 [==============================] - 6s 58ms/step - loss: 6.7193e-04 - val_loss: 1.3140e-05\n",
      "Epoch 49/100\n",
      "111/111 [==============================] - 7s 59ms/step - loss: 8.3088e-04 - val_loss: 2.2431e-06\n",
      "Epoch 50/100\n",
      "111/111 [==============================] - 6s 58ms/step - loss: 6.7849e-04 - val_loss: 1.2116e-05\n",
      "Epoch 51/100\n",
      "111/111 [==============================] - 6s 58ms/step - loss: 7.7218e-04 - val_loss: 3.2581e-05\n",
      "Epoch 52/100\n",
      "111/111 [==============================] - 7s 65ms/step - loss: 6.6040e-04 - val_loss: 9.2448e-05\n",
      "Epoch 53/100\n",
      "111/111 [==============================] - 6s 55ms/step - loss: 7.7941e-04 - val_loss: 3.0585e-05\n",
      "Epoch 54/100\n",
      "111/111 [==============================] - 6s 54ms/step - loss: 6.8181e-04 - val_loss: 2.9078e-04\n",
      "Epoch 55/100\n",
      "111/111 [==============================] - 6s 54ms/step - loss: 7.9496e-04 - val_loss: 8.4239e-05\n",
      "Epoch 56/100\n",
      "111/111 [==============================] - 6s 57ms/step - loss: 6.6366e-04 - val_loss: 1.9029e-06\n",
      "Epoch 57/100\n",
      "111/111 [==============================] - 6s 53ms/step - loss: 7.6487e-04 - val_loss: 1.6150e-06\n",
      "Epoch 58/100\n",
      "111/111 [==============================] - 6s 55ms/step - loss: 7.7171e-04 - val_loss: 1.0412e-05\n",
      "Epoch 59/100\n",
      "111/111 [==============================] - 6s 55ms/step - loss: 6.6109e-04 - val_loss: 5.0948e-04\n",
      "Epoch 60/100\n",
      "111/111 [==============================] - 6s 55ms/step - loss: 7.8644e-04 - val_loss: 1.3147e-04\n",
      "Epoch 61/100\n",
      "111/111 [==============================] - 6s 55ms/step - loss: 7.4379e-04 - val_loss: 4.6848e-05\n",
      "Epoch 62/100\n",
      "111/111 [==============================] - 6s 55ms/step - loss: 7.0170e-04 - val_loss: 3.6030e-06\n",
      "Epoch 63/100\n",
      "111/111 [==============================] - 6s 53ms/step - loss: 8.3690e-04 - val_loss: 2.3108e-05\n",
      "Epoch 64/100\n",
      "111/111 [==============================] - 6s 55ms/step - loss: 6.2965e-04 - val_loss: 5.3246e-05\n"
     ]
    },
    {
     "ename": "NameError",
     "evalue": "name 'model' is not defined",
     "output_type": "error",
     "traceback": [
      "\u001b[0;31m---------------------------------------------------------------------------\u001b[0m",
      "\u001b[0;31mNameError\u001b[0m                                 Traceback (most recent call last)",
      "\u001b[0;32m/var/folders/ph/9x0cvwsd3w9f7f44132kb7mc0000gn/T/ipykernel_3146/2827287379.py\u001b[0m in \u001b[0;36m<module>\u001b[0;34m\u001b[0m\n\u001b[0;32m----> 1\u001b[0;31m \u001b[0mpredict_model\u001b[0m\u001b[0;34m(\u001b[0m\u001b[0;34m)\u001b[0m\u001b[0;34m\u001b[0m\u001b[0;34m\u001b[0m\u001b[0m\n\u001b[0m",
      "\u001b[0;32m/var/folders/ph/9x0cvwsd3w9f7f44132kb7mc0000gn/T/ipykernel_3146/2341845397.py\u001b[0m in \u001b[0;36mpredict_model\u001b[0;34m()\u001b[0m\n\u001b[1;32m      1\u001b[0m \u001b[0;32mdef\u001b[0m \u001b[0mpredict_model\u001b[0m\u001b[0;34m(\u001b[0m\u001b[0;34m)\u001b[0m\u001b[0;34m:\u001b[0m\u001b[0;34m\u001b[0m\u001b[0;34m\u001b[0m\u001b[0m\n\u001b[1;32m      2\u001b[0m     \u001b[0mtrain_model\u001b[0m\u001b[0;34m(\u001b[0m\u001b[0;34m)\u001b[0m\u001b[0;34m\u001b[0m\u001b[0;34m\u001b[0m\u001b[0m\n\u001b[0;32m----> 3\u001b[0;31m     \u001b[0mpredicted_stock_price\u001b[0m \u001b[0;34m=\u001b[0m \u001b[0mmodel\u001b[0m\u001b[0;34m.\u001b[0m\u001b[0mpredict\u001b[0m\u001b[0;34m(\u001b[0m\u001b[0mX_test\u001b[0m\u001b[0;34m)\u001b[0m\u001b[0;34m\u001b[0m\u001b[0;34m\u001b[0m\u001b[0m\n\u001b[0m\u001b[1;32m      4\u001b[0m     \u001b[0mpredicted_stock_price\u001b[0m \u001b[0;34m=\u001b[0m \u001b[0msc\u001b[0m\u001b[0;34m.\u001b[0m\u001b[0minverse_transform\u001b[0m\u001b[0;34m(\u001b[0m\u001b[0mpredicted_stock_price\u001b[0m\u001b[0;34m)\u001b[0m\u001b[0;34m\u001b[0m\u001b[0;34m\u001b[0m\u001b[0m\n\u001b[1;32m      5\u001b[0m     \u001b[0;32mreturn\u001b[0m \u001b[0mpredicted_stock_price\u001b[0m\u001b[0;34m\u001b[0m\u001b[0;34m\u001b[0m\u001b[0m\n",
      "\u001b[0;31mNameError\u001b[0m: name 'model' is not defined"
     ]
    }
   ],
   "source": [
    "predict_model()"
   ]
  },
  {
   "cell_type": "code",
   "execution_count": null,
   "id": "71ba4d42",
   "metadata": {},
   "outputs": [],
   "source": []
  },
  {
   "cell_type": "code",
   "execution_count": null,
   "id": "51942acd",
   "metadata": {},
   "outputs": [],
   "source": []
  }
 ],
 "metadata": {
  "kernelspec": {
   "display_name": "Python 3 (ipykernel)",
   "language": "python",
   "name": "python3"
  },
  "language_info": {
   "codemirror_mode": {
    "name": "ipython",
    "version": 3
   },
   "file_extension": ".py",
   "mimetype": "text/x-python",
   "name": "python",
   "nbconvert_exporter": "python",
   "pygments_lexer": "ipython3",
   "version": "3.8.12"
  },
  "toc": {
   "base_numbering": 1,
   "nav_menu": {},
   "number_sections": true,
   "sideBar": true,
   "skip_h1_title": false,
   "title_cell": "Table of Contents",
   "title_sidebar": "Contents",
   "toc_cell": false,
   "toc_position": {},
   "toc_section_display": true,
   "toc_window_display": false
  }
 },
 "nbformat": 4,
 "nbformat_minor": 5
}
