{
 "cells": [
  {
   "cell_type": "code",
   "execution_count": 1,
   "id": "86ca074d",
   "metadata": {},
   "outputs": [],
   "source": [
    "# Imports\n",
    "\n",
    "import pandas as pd\n",
    "import numpy as np\n",
    "import matplotlib.pyplot as plt\n",
    "import joblib\n",
    "from google.cloud import storage\n",
    "from sklearn.preprocessing import MinMaxScaler\n",
    "from tensorflow.keras.models import Sequential\n",
    "from tensorflow.keras.layers import Dense, LSTM, Dropout\n",
    "from sklearn.metrics import mean_squared_error, mean_absolute_error\n",
    "from tensorflow.keras.callbacks import EarlyStopping"
   ]
  },
  {
   "cell_type": "code",
   "execution_count": 2,
   "id": "84c57f39",
   "metadata": {},
   "outputs": [],
   "source": [
    "# Function to get data\n",
    "\n",
    "def get_stock_data_from_gcp(nrows=10000, local=False, optimize=False, **kwargs):\n",
    "    \"\"\"method to get the training data (or a portion of it) from google cloud bucket\"\"\"\n",
    "    # Add Client() here\n",
    "    client = storage.Client()\n",
    "    if local:\n",
    "        path = \"data/data_data_10Mill.csv\"\n",
    "    else:\n",
    "        path = \"gs://stock-news-pred-bucket/amazon_stock_price.csv\"\n",
    "    df = pd.read_csv(path)#add nrows after if you want to select a specific number of row\n",
    "    return df"
   ]
  },
  {
   "cell_type": "code",
   "execution_count": 3,
   "id": "0e84974c",
   "metadata": {},
   "outputs": [],
   "source": [
    "df = get_stock_data_from_gcp()"
   ]
  },
  {
   "cell_type": "code",
   "execution_count": 4,
   "id": "f49968b9",
   "metadata": {},
   "outputs": [],
   "source": [
    "df = df.sort_values('date', ascending=True).reset_index(drop=True)"
   ]
  },
  {
   "cell_type": "code",
   "execution_count": 5,
   "id": "a3ca5f24",
   "metadata": {},
   "outputs": [
    {
     "data": {
      "text/html": [
       "<div>\n",
       "<style scoped>\n",
       "    .dataframe tbody tr th:only-of-type {\n",
       "        vertical-align: middle;\n",
       "    }\n",
       "\n",
       "    .dataframe tbody tr th {\n",
       "        vertical-align: top;\n",
       "    }\n",
       "\n",
       "    .dataframe thead th {\n",
       "        text-align: right;\n",
       "    }\n",
       "</style>\n",
       "<table border=\"1\" class=\"dataframe\">\n",
       "  <thead>\n",
       "    <tr style=\"text-align: right;\">\n",
       "      <th></th>\n",
       "      <th>date</th>\n",
       "      <th>AMZN</th>\n",
       "    </tr>\n",
       "  </thead>\n",
       "  <tbody>\n",
       "    <tr>\n",
       "      <th>0</th>\n",
       "      <td>1999-11-01</td>\n",
       "      <td>69.13</td>\n",
       "    </tr>\n",
       "    <tr>\n",
       "      <th>1</th>\n",
       "      <td>1999-11-02</td>\n",
       "      <td>66.44</td>\n",
       "    </tr>\n",
       "    <tr>\n",
       "      <th>2</th>\n",
       "      <td>1999-11-03</td>\n",
       "      <td>65.81</td>\n",
       "    </tr>\n",
       "    <tr>\n",
       "      <th>3</th>\n",
       "      <td>1999-11-04</td>\n",
       "      <td>63.06</td>\n",
       "    </tr>\n",
       "    <tr>\n",
       "      <th>4</th>\n",
       "      <td>1999-11-05</td>\n",
       "      <td>64.94</td>\n",
       "    </tr>\n",
       "    <tr>\n",
       "      <th>...</th>\n",
       "      <td>...</td>\n",
       "      <td>...</td>\n",
       "    </tr>\n",
       "    <tr>\n",
       "      <th>5547</th>\n",
       "      <td>2021-11-16</td>\n",
       "      <td>3540.70</td>\n",
       "    </tr>\n",
       "    <tr>\n",
       "      <th>5548</th>\n",
       "      <td>2021-11-17</td>\n",
       "      <td>3549.00</td>\n",
       "    </tr>\n",
       "    <tr>\n",
       "      <th>5549</th>\n",
       "      <td>2021-11-18</td>\n",
       "      <td>3696.06</td>\n",
       "    </tr>\n",
       "    <tr>\n",
       "      <th>5550</th>\n",
       "      <td>2021-11-19</td>\n",
       "      <td>3676.57</td>\n",
       "    </tr>\n",
       "    <tr>\n",
       "      <th>5551</th>\n",
       "      <td>2021-11-22</td>\n",
       "      <td>3572.57</td>\n",
       "    </tr>\n",
       "  </tbody>\n",
       "</table>\n",
       "<p>5552 rows × 2 columns</p>\n",
       "</div>"
      ],
      "text/plain": [
       "            date     AMZN\n",
       "0     1999-11-01    69.13\n",
       "1     1999-11-02    66.44\n",
       "2     1999-11-03    65.81\n",
       "3     1999-11-04    63.06\n",
       "4     1999-11-05    64.94\n",
       "...          ...      ...\n",
       "5547  2021-11-16  3540.70\n",
       "5548  2021-11-17  3549.00\n",
       "5549  2021-11-18  3696.06\n",
       "5550  2021-11-19  3676.57\n",
       "5551  2021-11-22  3572.57\n",
       "\n",
       "[5552 rows x 2 columns]"
      ]
     },
     "execution_count": 5,
     "metadata": {},
     "output_type": "execute_result"
    }
   ],
   "source": [
    "df"
   ]
  },
  {
   "cell_type": "code",
   "execution_count": 6,
   "id": "952aac78",
   "metadata": {},
   "outputs": [],
   "source": [
    "X = df[['AMZN']]"
   ]
  },
  {
   "cell_type": "code",
   "execution_count": 7,
   "id": "d59b21ce",
   "metadata": {},
   "outputs": [
    {
     "data": {
      "text/html": [
       "<div>\n",
       "<style scoped>\n",
       "    .dataframe tbody tr th:only-of-type {\n",
       "        vertical-align: middle;\n",
       "    }\n",
       "\n",
       "    .dataframe tbody tr th {\n",
       "        vertical-align: top;\n",
       "    }\n",
       "\n",
       "    .dataframe thead th {\n",
       "        text-align: right;\n",
       "    }\n",
       "</style>\n",
       "<table border=\"1\" class=\"dataframe\">\n",
       "  <thead>\n",
       "    <tr style=\"text-align: right;\">\n",
       "      <th></th>\n",
       "      <th>AMZN</th>\n",
       "    </tr>\n",
       "  </thead>\n",
       "  <tbody>\n",
       "    <tr>\n",
       "      <th>0</th>\n",
       "      <td>69.13</td>\n",
       "    </tr>\n",
       "    <tr>\n",
       "      <th>1</th>\n",
       "      <td>66.44</td>\n",
       "    </tr>\n",
       "    <tr>\n",
       "      <th>2</th>\n",
       "      <td>65.81</td>\n",
       "    </tr>\n",
       "    <tr>\n",
       "      <th>3</th>\n",
       "      <td>63.06</td>\n",
       "    </tr>\n",
       "    <tr>\n",
       "      <th>4</th>\n",
       "      <td>64.94</td>\n",
       "    </tr>\n",
       "    <tr>\n",
       "      <th>...</th>\n",
       "      <td>...</td>\n",
       "    </tr>\n",
       "    <tr>\n",
       "      <th>5547</th>\n",
       "      <td>3540.70</td>\n",
       "    </tr>\n",
       "    <tr>\n",
       "      <th>5548</th>\n",
       "      <td>3549.00</td>\n",
       "    </tr>\n",
       "    <tr>\n",
       "      <th>5549</th>\n",
       "      <td>3696.06</td>\n",
       "    </tr>\n",
       "    <tr>\n",
       "      <th>5550</th>\n",
       "      <td>3676.57</td>\n",
       "    </tr>\n",
       "    <tr>\n",
       "      <th>5551</th>\n",
       "      <td>3572.57</td>\n",
       "    </tr>\n",
       "  </tbody>\n",
       "</table>\n",
       "<p>5552 rows × 1 columns</p>\n",
       "</div>"
      ],
      "text/plain": [
       "         AMZN\n",
       "0       69.13\n",
       "1       66.44\n",
       "2       65.81\n",
       "3       63.06\n",
       "4       64.94\n",
       "...       ...\n",
       "5547  3540.70\n",
       "5548  3549.00\n",
       "5549  3696.06\n",
       "5550  3676.57\n",
       "5551  3572.57\n",
       "\n",
       "[5552 rows x 1 columns]"
      ]
     },
     "execution_count": 7,
     "metadata": {},
     "output_type": "execute_result"
    }
   ],
   "source": [
    "X"
   ]
  },
  {
   "cell_type": "code",
   "execution_count": 8,
   "id": "c5bd1af4",
   "metadata": {},
   "outputs": [],
   "source": [
    "# Function to scale data\n",
    "\n",
    "def scale_stock_data(df, ticker):\n",
    "    X = df[[ticker]]\n",
    "    sc = MinMaxScaler().fit(X)\n",
    "    X_sc = sc.fit_transform(X)\n",
    "    return sc, X_sc"
   ]
  },
  {
   "cell_type": "code",
   "execution_count": 9,
   "id": "8e58d61a",
   "metadata": {},
   "outputs": [],
   "source": [
    "# Function to split scaled data\n",
    "\n",
    "def split_stock_data(X_sc, train_size):\n",
    "    index = round(train_size*X_sc.shape[0])\n",
    "    X_sc_train = X_sc[:index]\n",
    "    X_sc_test = X_sc[index:]\n",
    "    return X_sc_train, X_sc_test"
   ]
  },
  {
   "cell_type": "code",
   "execution_count": 10,
   "id": "37d22456",
   "metadata": {},
   "outputs": [],
   "source": [
    "# Function to reshape scaled train data\n",
    "\n",
    "def reshape_train_data(X_sc_train, obs):\n",
    "    X_train = []\n",
    "    y_train = []\n",
    "    for i in range(obs, X_sc_train.shape[0]):\n",
    "        X_train.append(X_sc_train[i-obs:i, 0])\n",
    "        y_train.append(X_sc_train[i, 0])\n",
    "    X_train, y_train = np.array(X_train), np.array(y_train)\n",
    "    X_train = np.reshape(X_train, (X_train.shape[0], X_train.shape[1], 1))\n",
    "    return X_train, y_train"
   ]
  },
  {
   "cell_type": "code",
   "execution_count": 11,
   "id": "81f00c81",
   "metadata": {},
   "outputs": [],
   "source": [
    "# Function to reshape scaled test data\n",
    "\n",
    "def reshape_test_data(X_sc_test, obs):\n",
    "    X_test = []\n",
    "    y_test = []\n",
    "    for i in range(obs, X_sc_test.shape[0]):\n",
    "        X_test.append(X_sc_test[i-obs:i, 0])\n",
    "        y_test.append(X_sc_test[i, 0])\n",
    "    X_test, y_test = np.array(X_test), np.array(y_test)\n",
    "    X_test = np.reshape(X_test, (X_test.shape[0], X_test.shape[1], 1))\n",
    "    return X_test, y_test"
   ]
  },
  {
   "cell_type": "code",
   "execution_count": 12,
   "id": "a99d0a7d",
   "metadata": {},
   "outputs": [],
   "source": [
    "# Function to inverse transform\n",
    "\n",
    "def inverse_transformer(y):\n",
    "    y = np.c_[y, np.ones(len(y))]\n",
    "    y = scaler.inverse_transform(y)\n",
    "    y = y[:,0]\n",
    "    return y"
   ]
  },
  {
   "cell_type": "code",
   "execution_count": 13,
   "id": "a722974a",
   "metadata": {},
   "outputs": [],
   "source": [
    "# Function to build the lstm model\n",
    "\n",
    "def lstm_model():\n",
    "    model = Sequential()\n",
    "    model.add(LSTM(units = 50, return_sequences = True))\n",
    "    model.add(Dropout(0.2))\n",
    "    model.add(LSTM(units = 50, return_sequences = True))\n",
    "    model.add(Dropout(0.2))\n",
    "    model.add(LSTM(units = 50, return_sequences = True))\n",
    "    model.add(Dropout(0.2))\n",
    "    model.add(LSTM(units = 50))\n",
    "    model.add(Dropout(0.2))\n",
    "    model.add(Dense(units = 1))\n",
    "    model.compile(optimizer = 'adam', loss = 'mean_squared_error')\n",
    "    return model"
   ]
  },
  {
   "cell_type": "code",
   "execution_count": 14,
   "id": "42078284",
   "metadata": {},
   "outputs": [],
   "source": [
    "# Function to train the model\n",
    "\n",
    "def train_model(X_train, y_train):   \n",
    "    model = lstm_model()\n",
    "    es = EarlyStopping(patience=30, restore_best_weights=True)\n",
    "    model.fit(X_train, y_train, validation_split=0.2, epochs=100, batch_size=32, callbacks=[es], verbose=1)\n",
    "    return model"
   ]
  },
  {
   "cell_type": "code",
   "execution_count": 15,
   "id": "c6410b1a",
   "metadata": {},
   "outputs": [],
   "source": [
    "# Function to predict results\n",
    "\n",
    "def predict_model(ticker):\n",
    "    sc, X_sc = scale_stock_data(df, ticker) \n",
    "    X_sc_train, X_sc_test = split_stock_data(X_sc, 0.8)\n",
    "    X_train, y_train = reshape_train_data(X_sc_train, 30)\n",
    "    X_test, y_test = reshape_test_data(X_sc_test, 30)\n",
    "    #sc = MinMaxScaler().fit(X)\n",
    "    model = train_model(X_train, y_train)\n",
    "    predicted_stock_price = model.predict(X_test)\n",
    "    predicted_stock_price = sc.inverse_transform(predicted_stock_price)\n",
    "    return predicted_stock_price"
   ]
  },
  {
   "cell_type": "code",
   "execution_count": 16,
   "id": "eec86d8f",
   "metadata": {},
   "outputs": [],
   "source": [
    "#prediction = predict_model('AMZN')"
   ]
  },
  {
   "cell_type": "code",
   "execution_count": 17,
   "id": "ead50d38",
   "metadata": {},
   "outputs": [],
   "source": [
    "#prediction"
   ]
  },
  {
   "cell_type": "code",
   "execution_count": 18,
   "id": "fa12dd84",
   "metadata": {},
   "outputs": [],
   "source": [
    "#plt.plot(prediction);"
   ]
  },
  {
   "cell_type": "code",
   "execution_count": 19,
   "id": "df6e6c3b",
   "metadata": {},
   "outputs": [],
   "source": [
    "def model_training(ticker):\n",
    "    sc, X_sc = scale_stock_data(df, ticker) \n",
    "    X_sc_train, X_sc_test = split_stock_data(X_sc, 0.8)\n",
    "    X_train, y_train = reshape_train_data(X_sc_train, 30)\n",
    "    X_test, y_test = reshape_test_data(X_sc_test, 30)\n",
    "    model = train_model(X_train, y_train)\n",
    "    return model"
   ]
  },
  {
   "cell_type": "code",
   "execution_count": 20,
   "id": "2cce0992",
   "metadata": {
    "scrolled": false
   },
   "outputs": [
    {
     "name": "stderr",
     "output_type": "stream",
     "text": [
      "2021-12-01 17:38:39.102287: I tensorflow/core/platform/cpu_feature_guard.cc:142] This TensorFlow binary is optimized with oneAPI Deep Neural Network Library (oneDNN) to use the following CPU instructions in performance-critical operations:  AVX2 FMA\n",
      "To enable them in other operations, rebuild TensorFlow with the appropriate compiler flags.\n",
      "2021-12-01 17:38:39.201203: I tensorflow/compiler/mlir/mlir_graph_optimization_pass.cc:176] None of the MLIR Optimization Passes are enabled (registered 2)\n"
     ]
    },
    {
     "name": "stdout",
     "output_type": "stream",
     "text": [
      "Epoch 1/100\n",
      "111/111 [==============================] - 11s 47ms/step - loss: 8.0711e-05 - val_loss: 7.5661e-05\n",
      "Epoch 2/100\n",
      "111/111 [==============================] - 4s 37ms/step - loss: 1.6883e-05 - val_loss: 9.8303e-05\n",
      "Epoch 3/100\n",
      "111/111 [==============================] - 4s 37ms/step - loss: 1.7229e-05 - val_loss: 6.3244e-05\n",
      "Epoch 4/100\n",
      "111/111 [==============================] - 4s 37ms/step - loss: 1.5039e-05 - val_loss: 8.2115e-05\n",
      "Epoch 5/100\n",
      "111/111 [==============================] - 4s 38ms/step - loss: 1.6085e-05 - val_loss: 6.0535e-05\n",
      "Epoch 6/100\n",
      "111/111 [==============================] - 4s 37ms/step - loss: 1.3786e-05 - val_loss: 1.9408e-04\n",
      "Epoch 7/100\n",
      "111/111 [==============================] - 7s 60ms/step - loss: 1.3474e-05 - val_loss: 7.5039e-05\n",
      "Epoch 8/100\n",
      "111/111 [==============================] - 5s 42ms/step - loss: 1.2949e-05 - val_loss: 6.5985e-05\n",
      "Epoch 9/100\n",
      "111/111 [==============================] - 4s 37ms/step - loss: 1.2141e-05 - val_loss: 1.1881e-04\n",
      "Epoch 10/100\n",
      "111/111 [==============================] - 5s 41ms/step - loss: 1.5869e-05 - val_loss: 1.2812e-04\n",
      "Epoch 11/100\n",
      "111/111 [==============================] - 4s 37ms/step - loss: 1.2389e-05 - val_loss: 5.2379e-05\n",
      "Epoch 12/100\n",
      "111/111 [==============================] - 4s 37ms/step - loss: 1.3217e-05 - val_loss: 1.5222e-04\n",
      "Epoch 13/100\n",
      "111/111 [==============================] - 4s 37ms/step - loss: 1.0860e-05 - val_loss: 5.5487e-05\n",
      "Epoch 14/100\n",
      "111/111 [==============================] - 4s 37ms/step - loss: 1.2316e-05 - val_loss: 1.0107e-04\n",
      "Epoch 15/100\n",
      "111/111 [==============================] - 4s 37ms/step - loss: 9.9416e-06 - val_loss: 4.1984e-05\n",
      "Epoch 16/100\n",
      "111/111 [==============================] - 4s 37ms/step - loss: 1.0297e-05 - val_loss: 5.6677e-05\n",
      "Epoch 17/100\n",
      "111/111 [==============================] - 4s 38ms/step - loss: 1.0228e-05 - val_loss: 5.2459e-05\n",
      "Epoch 18/100\n",
      "111/111 [==============================] - 4s 37ms/step - loss: 1.0387e-05 - val_loss: 7.7840e-05\n",
      "Epoch 19/100\n",
      "111/111 [==============================] - 4s 37ms/step - loss: 1.2035e-05 - val_loss: 8.9139e-05\n",
      "Epoch 20/100\n",
      "111/111 [==============================] - 4s 37ms/step - loss: 1.0290e-05 - val_loss: 9.1889e-05\n",
      "Epoch 21/100\n",
      "111/111 [==============================] - 4s 37ms/step - loss: 1.1391e-05 - val_loss: 1.5939e-04\n",
      "Epoch 22/100\n",
      "111/111 [==============================] - 4s 37ms/step - loss: 1.0452e-05 - val_loss: 1.8547e-04\n",
      "Epoch 23/100\n",
      "111/111 [==============================] - 4s 38ms/step - loss: 9.7915e-06 - val_loss: 3.5697e-05\n",
      "Epoch 24/100\n",
      "111/111 [==============================] - 5s 41ms/step - loss: 1.1723e-05 - val_loss: 4.3128e-05\n",
      "Epoch 25/100\n",
      "111/111 [==============================] - 4s 39ms/step - loss: 8.7634e-06 - val_loss: 3.3056e-05\n",
      "Epoch 26/100\n",
      "111/111 [==============================] - 4s 39ms/step - loss: 1.1001e-05 - val_loss: 3.8599e-05\n",
      "Epoch 27/100\n",
      "111/111 [==============================] - 4s 39ms/step - loss: 8.3934e-06 - val_loss: 5.5549e-05\n",
      "Epoch 28/100\n",
      "111/111 [==============================] - 4s 39ms/step - loss: 1.0507e-05 - val_loss: 4.8106e-05\n",
      "Epoch 29/100\n",
      "111/111 [==============================] - 4s 39ms/step - loss: 9.4633e-06 - val_loss: 6.1821e-05\n",
      "Epoch 30/100\n",
      "111/111 [==============================] - 4s 40ms/step - loss: 8.8653e-06 - val_loss: 4.4695e-05\n",
      "Epoch 31/100\n",
      "111/111 [==============================] - 5s 41ms/step - loss: 1.0451e-05 - val_loss: 4.6393e-05\n",
      "Epoch 32/100\n",
      "111/111 [==============================] - 5s 46ms/step - loss: 1.0592e-05 - val_loss: 2.0848e-04\n",
      "Epoch 33/100\n",
      "111/111 [==============================] - 4s 39ms/step - loss: 8.3838e-06 - val_loss: 3.4067e-05\n",
      "Epoch 34/100\n",
      "111/111 [==============================] - 6s 55ms/step - loss: 7.5759e-06 - val_loss: 4.7850e-05\n",
      "Epoch 35/100\n",
      "111/111 [==============================] - 6s 53ms/step - loss: 8.6108e-06 - val_loss: 1.0582e-04\n",
      "Epoch 36/100\n",
      "111/111 [==============================] - 4s 39ms/step - loss: 8.3482e-06 - val_loss: 4.1417e-05\n",
      "Epoch 37/100\n",
      "111/111 [==============================] - 5s 45ms/step - loss: 9.3766e-06 - val_loss: 5.0040e-05\n",
      "Epoch 38/100\n",
      "111/111 [==============================] - 4s 40ms/step - loss: 7.9301e-06 - val_loss: 3.6488e-05\n",
      "Epoch 39/100\n",
      "111/111 [==============================] - 4s 38ms/step - loss: 8.7417e-06 - val_loss: 3.7085e-05\n",
      "Epoch 40/100\n",
      "111/111 [==============================] - 4s 38ms/step - loss: 7.8927e-06 - val_loss: 6.1858e-05\n",
      "Epoch 41/100\n",
      "111/111 [==============================] - 4s 39ms/step - loss: 8.7980e-06 - val_loss: 4.2150e-05\n",
      "Epoch 42/100\n",
      "111/111 [==============================] - 4s 39ms/step - loss: 1.0019e-05 - val_loss: 3.9569e-05\n",
      "Epoch 43/100\n",
      "111/111 [==============================] - 4s 40ms/step - loss: 7.8481e-06 - val_loss: 3.0107e-05\n",
      "Epoch 44/100\n",
      "111/111 [==============================] - 4s 39ms/step - loss: 8.5828e-06 - val_loss: 2.6966e-05\n",
      "Epoch 45/100\n",
      "111/111 [==============================] - 4s 39ms/step - loss: 8.9071e-06 - val_loss: 2.6793e-05\n",
      "Epoch 46/100\n",
      "111/111 [==============================] - 4s 39ms/step - loss: 8.9546e-06 - val_loss: 2.9712e-04\n",
      "Epoch 47/100\n",
      "111/111 [==============================] - 4s 39ms/step - loss: 8.3779e-06 - val_loss: 2.6055e-04\n",
      "Epoch 48/100\n",
      "111/111 [==============================] - 4s 39ms/step - loss: 9.0287e-06 - val_loss: 2.4121e-05\n",
      "Epoch 49/100\n",
      "111/111 [==============================] - 4s 39ms/step - loss: 8.1173e-06 - val_loss: 2.4058e-05\n",
      "Epoch 50/100\n",
      "111/111 [==============================] - 4s 39ms/step - loss: 7.1659e-06 - val_loss: 3.8977e-05\n",
      "Epoch 51/100\n",
      "111/111 [==============================] - 4s 39ms/step - loss: 9.0517e-06 - val_loss: 4.4940e-05\n",
      "Epoch 52/100\n",
      "111/111 [==============================] - 4s 39ms/step - loss: 7.6033e-06 - val_loss: 2.7701e-05\n",
      "Epoch 53/100\n",
      "111/111 [==============================] - 4s 39ms/step - loss: 8.9551e-06 - val_loss: 3.9775e-05\n",
      "Epoch 54/100\n",
      "111/111 [==============================] - 4s 40ms/step - loss: 7.8896e-06 - val_loss: 2.4513e-04\n",
      "Epoch 55/100\n",
      "111/111 [==============================] - 4s 40ms/step - loss: 9.7671e-06 - val_loss: 2.7706e-05\n",
      "Epoch 56/100\n",
      "111/111 [==============================] - 4s 40ms/step - loss: 7.8981e-06 - val_loss: 2.2997e-05\n",
      "Epoch 57/100\n",
      "111/111 [==============================] - 4s 39ms/step - loss: 7.2207e-06 - val_loss: 4.2148e-05\n",
      "Epoch 58/100\n",
      "111/111 [==============================] - 4s 40ms/step - loss: 6.9832e-06 - val_loss: 7.6757e-05\n",
      "Epoch 59/100\n",
      "111/111 [==============================] - 4s 39ms/step - loss: 8.5275e-06 - val_loss: 2.2117e-04\n",
      "Epoch 60/100\n",
      "111/111 [==============================] - 4s 40ms/step - loss: 7.2242e-06 - val_loss: 2.2461e-05\n",
      "Epoch 61/100\n",
      "111/111 [==============================] - 7s 61ms/step - loss: 8.1529e-06 - val_loss: 2.5779e-05\n",
      "Epoch 62/100\n",
      "111/111 [==============================] - 5s 48ms/step - loss: 7.4327e-06 - val_loss: 9.8442e-05\n",
      "Epoch 63/100\n",
      "111/111 [==============================] - 4s 40ms/step - loss: 8.8089e-06 - val_loss: 2.2861e-05\n",
      "Epoch 64/100\n",
      "111/111 [==============================] - 5s 44ms/step - loss: 7.5964e-06 - val_loss: 3.7014e-05\n",
      "Epoch 65/100\n",
      "111/111 [==============================] - 4s 39ms/step - loss: 7.8121e-06 - val_loss: 2.8244e-04\n",
      "Epoch 66/100\n",
      "111/111 [==============================] - 4s 40ms/step - loss: 1.0215e-05 - val_loss: 2.3194e-05\n",
      "Epoch 67/100\n",
      "111/111 [==============================] - 4s 40ms/step - loss: 8.5244e-06 - val_loss: 1.0159e-04\n",
      "Epoch 68/100\n",
      "111/111 [==============================] - 4s 40ms/step - loss: 8.2162e-06 - val_loss: 4.4506e-05\n",
      "Epoch 69/100\n",
      "111/111 [==============================] - 4s 40ms/step - loss: 8.3668e-06 - val_loss: 2.1097e-05\n",
      "Epoch 70/100\n",
      "111/111 [==============================] - 5s 41ms/step - loss: 7.6491e-06 - val_loss: 6.6120e-05\n",
      "Epoch 71/100\n",
      "111/111 [==============================] - 4s 40ms/step - loss: 6.3816e-06 - val_loss: 2.3695e-05\n",
      "Epoch 72/100\n",
      "111/111 [==============================] - 4s 39ms/step - loss: 6.7092e-06 - val_loss: 2.5722e-05\n",
      "Epoch 73/100\n",
      "111/111 [==============================] - 4s 40ms/step - loss: 7.6635e-06 - val_loss: 2.2707e-05\n",
      "Epoch 74/100\n",
      "111/111 [==============================] - 4s 40ms/step - loss: 7.3831e-06 - val_loss: 2.4106e-05\n"
     ]
    },
    {
     "name": "stdout",
     "output_type": "stream",
     "text": [
      "Epoch 75/100\n",
      "111/111 [==============================] - 4s 38ms/step - loss: 8.0530e-06 - val_loss: 8.2345e-05\n",
      "Epoch 76/100\n",
      "111/111 [==============================] - 4s 37ms/step - loss: 6.9353e-06 - val_loss: 2.7942e-05\n",
      "Epoch 77/100\n",
      "111/111 [==============================] - 4s 38ms/step - loss: 7.2023e-06 - val_loss: 2.9665e-05\n",
      "Epoch 78/100\n",
      "111/111 [==============================] - 4s 38ms/step - loss: 7.8337e-06 - val_loss: 4.2591e-05\n",
      "Epoch 79/100\n",
      "111/111 [==============================] - 4s 38ms/step - loss: 6.9697e-06 - val_loss: 3.5883e-05\n",
      "Epoch 80/100\n",
      "111/111 [==============================] - 4s 38ms/step - loss: 6.8222e-06 - val_loss: 5.6885e-05\n",
      "Epoch 81/100\n",
      "111/111 [==============================] - 4s 38ms/step - loss: 6.8373e-06 - val_loss: 2.3513e-05\n",
      "Epoch 82/100\n",
      "111/111 [==============================] - 4s 38ms/step - loss: 8.1237e-06 - val_loss: 3.7227e-05\n",
      "Epoch 83/100\n",
      "111/111 [==============================] - 4s 38ms/step - loss: 6.8067e-06 - val_loss: 2.3731e-05\n",
      "Epoch 84/100\n",
      "111/111 [==============================] - 4s 38ms/step - loss: 8.7327e-06 - val_loss: 1.5599e-04\n",
      "Epoch 85/100\n",
      "111/111 [==============================] - 4s 38ms/step - loss: 7.5337e-06 - val_loss: 1.0001e-04\n",
      "Epoch 86/100\n",
      "111/111 [==============================] - 4s 38ms/step - loss: 8.9874e-06 - val_loss: 4.5235e-04\n",
      "Epoch 87/100\n",
      "111/111 [==============================] - 4s 38ms/step - loss: 7.3759e-06 - val_loss: 2.5152e-05\n",
      "Epoch 88/100\n",
      "111/111 [==============================] - 7s 63ms/step - loss: 6.9680e-06 - val_loss: 2.8879e-05\n",
      "Epoch 89/100\n",
      "111/111 [==============================] - 5s 41ms/step - loss: 7.1791e-06 - val_loss: 7.1625e-05\n",
      "Epoch 90/100\n",
      "111/111 [==============================] - 4s 38ms/step - loss: 7.2645e-06 - val_loss: 1.0777e-04\n",
      "Epoch 91/100\n",
      "111/111 [==============================] - 6s 52ms/step - loss: 6.3475e-06 - val_loss: 3.3250e-05\n",
      "Epoch 92/100\n",
      "111/111 [==============================] - 4s 36ms/step - loss: 7.4599e-06 - val_loss: 3.9798e-05\n",
      "Epoch 93/100\n",
      "111/111 [==============================] - 4s 35ms/step - loss: 8.4722e-06 - val_loss: 1.6986e-04\n",
      "Epoch 94/100\n",
      "111/111 [==============================] - 4s 36ms/step - loss: 7.0085e-06 - val_loss: 1.0494e-04\n",
      "Epoch 95/100\n",
      "111/111 [==============================] - 4s 39ms/step - loss: 6.7874e-06 - val_loss: 1.9969e-04\n",
      "Epoch 96/100\n",
      "111/111 [==============================] - 202s 2s/step - loss: 7.6463e-06 - val_loss: 3.3220e-05\n",
      "Epoch 97/100\n",
      "111/111 [==============================] - 4s 39ms/step - loss: 6.7677e-06 - val_loss: 6.1542e-05\n",
      "Epoch 98/100\n",
      "111/111 [==============================] - 4s 38ms/step - loss: 6.6029e-06 - val_loss: 6.1042e-05\n",
      "Epoch 99/100\n",
      "111/111 [==============================] - 4s 37ms/step - loss: 6.2380e-06 - val_loss: 3.5479e-05\n"
     ]
    }
   ],
   "source": [
    "model = model_training('AMZN')"
   ]
  },
  {
   "cell_type": "code",
   "execution_count": 21,
   "id": "49c508f9",
   "metadata": {},
   "outputs": [],
   "source": [
    "def reshape_data(X_sc, obs):\n",
    "    X_final = []\n",
    "    for i in range(obs, X_sc.shape[0]):\n",
    "        X_final.append(X_sc[i-obs:i, 0])\n",
    "    X_final = np.array(X_final)\n",
    "    X_final = np.reshape(X_final, (X_final.shape[0], X_final.shape[1], 1))\n",
    "    return X_final"
   ]
  },
  {
   "cell_type": "code",
   "execution_count": 22,
   "id": "0d0d1d1f",
   "metadata": {},
   "outputs": [],
   "source": [
    "sc, X_sc = scale_stock_data(df, 'AMZN')"
   ]
  },
  {
   "cell_type": "code",
   "execution_count": 23,
   "id": "349f3553",
   "metadata": {},
   "outputs": [
    {
     "data": {
      "text/plain": [
       "(5552, 1)"
      ]
     },
     "execution_count": 23,
     "metadata": {},
     "output_type": "execute_result"
    }
   ],
   "source": [
    "X_sc.shape"
   ]
  },
  {
   "cell_type": "code",
   "execution_count": 24,
   "id": "847d4047",
   "metadata": {},
   "outputs": [],
   "source": [
    "X_final = reshape_data(X_sc, 30)"
   ]
  },
  {
   "cell_type": "code",
   "execution_count": 25,
   "id": "f3a257aa",
   "metadata": {},
   "outputs": [
    {
     "data": {
      "text/plain": [
       "(5522, 30, 1)"
      ]
     },
     "execution_count": 25,
     "metadata": {},
     "output_type": "execute_result"
    }
   ],
   "source": [
    "X_final.shape"
   ]
  },
  {
   "cell_type": "code",
   "execution_count": 26,
   "id": "cd68d2bf",
   "metadata": {},
   "outputs": [],
   "source": [
    "final_predictions = model.predict(X_final)"
   ]
  },
  {
   "cell_type": "code",
   "execution_count": 27,
   "id": "b2cf1992",
   "metadata": {},
   "outputs": [
    {
     "data": {
      "text/plain": [
       "array([[0.02224883],\n",
       "       [0.02297795],\n",
       "       [0.02343489],\n",
       "       ...,\n",
       "       [0.682509  ],\n",
       "       [0.68353224],\n",
       "       [0.6850415 ]], dtype=float32)"
      ]
     },
     "execution_count": 27,
     "metadata": {},
     "output_type": "execute_result"
    }
   ],
   "source": [
    "final_predictions"
   ]
  },
  {
   "cell_type": "code",
   "execution_count": 28,
   "id": "ff65acee",
   "metadata": {},
   "outputs": [
    {
     "data": {
      "text/plain": [
       "array([[  88.85669],\n",
       "       [  91.57298],\n",
       "       [  93.27529],\n",
       "       ...,\n",
       "       [2548.6162 ],\n",
       "       [2552.4282 ],\n",
       "       [2558.0508 ]], dtype=float32)"
      ]
     },
     "execution_count": 28,
     "metadata": {},
     "output_type": "execute_result"
    }
   ],
   "source": [
    "final_predictions = sc.inverse_transform(final_predictions)\n",
    "final_predictions"
   ]
  },
  {
   "cell_type": "code",
   "execution_count": 29,
   "id": "98dbfbbf",
   "metadata": {},
   "outputs": [
    {
     "data": {
      "text/plain": [
       "(5522, 1)"
      ]
     },
     "execution_count": 29,
     "metadata": {},
     "output_type": "execute_result"
    }
   ],
   "source": [
    "final_predictions.shape"
   ]
  },
  {
   "cell_type": "code",
   "execution_count": 30,
   "id": "d2e7af77",
   "metadata": {},
   "outputs": [],
   "source": [
    "df = df.drop(df.head(30).index)"
   ]
  },
  {
   "cell_type": "code",
   "execution_count": 31,
   "id": "bf6b47e5",
   "metadata": {},
   "outputs": [],
   "source": [
    "df['predictions'] = final_predictions"
   ]
  },
  {
   "cell_type": "code",
   "execution_count": 32,
   "id": "b696bbfd",
   "metadata": {
    "scrolled": true
   },
   "outputs": [
    {
     "data": {
      "text/html": [
       "<div>\n",
       "<style scoped>\n",
       "    .dataframe tbody tr th:only-of-type {\n",
       "        vertical-align: middle;\n",
       "    }\n",
       "\n",
       "    .dataframe tbody tr th {\n",
       "        vertical-align: top;\n",
       "    }\n",
       "\n",
       "    .dataframe thead th {\n",
       "        text-align: right;\n",
       "    }\n",
       "</style>\n",
       "<table border=\"1\" class=\"dataframe\">\n",
       "  <thead>\n",
       "    <tr style=\"text-align: right;\">\n",
       "      <th></th>\n",
       "      <th>date</th>\n",
       "      <th>AMZN</th>\n",
       "      <th>predictions</th>\n",
       "    </tr>\n",
       "  </thead>\n",
       "  <tbody>\n",
       "    <tr>\n",
       "      <th>30</th>\n",
       "      <td>1999-12-14</td>\n",
       "      <td>95.63</td>\n",
       "      <td>88.856689</td>\n",
       "    </tr>\n",
       "    <tr>\n",
       "      <th>31</th>\n",
       "      <td>1999-12-15</td>\n",
       "      <td>96.50</td>\n",
       "      <td>91.572983</td>\n",
       "    </tr>\n",
       "    <tr>\n",
       "      <th>32</th>\n",
       "      <td>1999-12-16</td>\n",
       "      <td>94.88</td>\n",
       "      <td>93.275291</td>\n",
       "    </tr>\n",
       "    <tr>\n",
       "      <th>33</th>\n",
       "      <td>1999-12-17</td>\n",
       "      <td>94.06</td>\n",
       "      <td>93.864502</td>\n",
       "    </tr>\n",
       "    <tr>\n",
       "      <th>34</th>\n",
       "      <td>1999-12-20</td>\n",
       "      <td>97.00</td>\n",
       "      <td>93.531158</td>\n",
       "    </tr>\n",
       "    <tr>\n",
       "      <th>...</th>\n",
       "      <td>...</td>\n",
       "      <td>...</td>\n",
       "      <td>...</td>\n",
       "    </tr>\n",
       "    <tr>\n",
       "      <th>5547</th>\n",
       "      <td>2021-11-16</td>\n",
       "      <td>3540.70</td>\n",
       "      <td>2543.414551</td>\n",
       "    </tr>\n",
       "    <tr>\n",
       "      <th>5548</th>\n",
       "      <td>2021-11-17</td>\n",
       "      <td>3549.00</td>\n",
       "      <td>2546.236328</td>\n",
       "    </tr>\n",
       "    <tr>\n",
       "      <th>5549</th>\n",
       "      <td>2021-11-18</td>\n",
       "      <td>3696.06</td>\n",
       "      <td>2548.616211</td>\n",
       "    </tr>\n",
       "    <tr>\n",
       "      <th>5550</th>\n",
       "      <td>2021-11-19</td>\n",
       "      <td>3676.57</td>\n",
       "      <td>2552.428223</td>\n",
       "    </tr>\n",
       "    <tr>\n",
       "      <th>5551</th>\n",
       "      <td>2021-11-22</td>\n",
       "      <td>3572.57</td>\n",
       "      <td>2558.050781</td>\n",
       "    </tr>\n",
       "  </tbody>\n",
       "</table>\n",
       "<p>5522 rows × 3 columns</p>\n",
       "</div>"
      ],
      "text/plain": [
       "            date     AMZN  predictions\n",
       "30    1999-12-14    95.63    88.856689\n",
       "31    1999-12-15    96.50    91.572983\n",
       "32    1999-12-16    94.88    93.275291\n",
       "33    1999-12-17    94.06    93.864502\n",
       "34    1999-12-20    97.00    93.531158\n",
       "...          ...      ...          ...\n",
       "5547  2021-11-16  3540.70  2543.414551\n",
       "5548  2021-11-17  3549.00  2546.236328\n",
       "5549  2021-11-18  3696.06  2548.616211\n",
       "5550  2021-11-19  3676.57  2552.428223\n",
       "5551  2021-11-22  3572.57  2558.050781\n",
       "\n",
       "[5522 rows x 3 columns]"
      ]
     },
     "execution_count": 32,
     "metadata": {},
     "output_type": "execute_result"
    }
   ],
   "source": [
    "df"
   ]
  },
  {
   "cell_type": "code",
   "execution_count": null,
   "id": "77bee545",
   "metadata": {},
   "outputs": [],
   "source": []
  },
  {
   "cell_type": "code",
   "execution_count": null,
   "id": "776e80d6",
   "metadata": {},
   "outputs": [],
   "source": []
  },
  {
   "cell_type": "code",
   "execution_count": 33,
   "id": "a1050fde",
   "metadata": {},
   "outputs": [],
   "source": [
    "#df.to_csv('model1_predictions.csv', index=False)"
   ]
  },
  {
   "cell_type": "code",
   "execution_count": 34,
   "id": "b44ebcf2",
   "metadata": {},
   "outputs": [
    {
     "data": {
      "image/png": "[encoded data removed]",
      "text/plain": [
       "<Figure size 1440x432 with 1 Axes>"
      ]
     },
     "metadata": {
      "needs_background": "light"
     },
     "output_type": "display_data"
    }
   ],
   "source": [
    "plt.figure(figsize=(20, 6))\n",
    "plt.plot(df['AMZN'], color = 'black', label = 'AMZN Stock Price')\n",
    "plt.plot(df['predictions'], color = 'green', label = 'Predicted AMZN Stock Price')\n",
    "plt.title('AMZN Stock Price Prediction')\n",
    "plt.xlabel('Time')\n",
    "plt.ylabel('AMZN Stock Price')\n",
    "plt.legend()\n",
    "plt.show()"
   ]
  },
  {
   "cell_type": "code",
   "execution_count": 35,
   "id": "81baeb82",
   "metadata": {},
   "outputs": [],
   "source": [
    "#from keras.models import load_model\n",
    "\n",
    "#model.save('stock_price.h5')"
   ]
  },
  {
   "cell_type": "code",
   "execution_count": 36,
   "id": "1e2acdd7",
   "metadata": {},
   "outputs": [],
   "source": [
    "#model_test = load_model('lstm_model_stock_price.h5')"
   ]
  },
  {
   "cell_type": "code",
   "execution_count": 37,
   "id": "682a404d",
   "metadata": {},
   "outputs": [],
   "source": [
    "#sc, X_sc = scale_stock_data(df, 'AMZN')"
   ]
  },
  {
   "cell_type": "code",
   "execution_count": 38,
   "id": "26506aa8",
   "metadata": {},
   "outputs": [],
   "source": [
    "#X_sc_train, X_sc_test = split_stock_data(X_sc, 0.8)"
   ]
  },
  {
   "cell_type": "code",
   "execution_count": 39,
   "id": "a605671a",
   "metadata": {},
   "outputs": [],
   "source": [
    "#X_train, y_train = reshape_train_data(X_sc_train, 30)"
   ]
  },
  {
   "cell_type": "code",
   "execution_count": 40,
   "id": "fd8f6af6",
   "metadata": {},
   "outputs": [],
   "source": [
    "#X_test, y_test = reshape_test_data(X_sc_test, 30)"
   ]
  },
  {
   "cell_type": "code",
   "execution_count": 41,
   "id": "7f17a0ef",
   "metadata": {},
   "outputs": [],
   "source": [
    "#y_pred = model_test.predict(X_test)"
   ]
  },
  {
   "cell_type": "code",
   "execution_count": 42,
   "id": "b81b03a9",
   "metadata": {
    "scrolled": true
   },
   "outputs": [],
   "source": [
    "#y_pred"
   ]
  }
 ],
 "metadata": {
  "kernelspec": {
   "display_name": "Python 3 (ipykernel)",
   "language": "python",
   "name": "python3"
  },
  "language_info": {
   "codemirror_mode": {
    "name": "ipython",
    "version": 3
   },
   "file_extension": ".py",
   "mimetype": "text/x-python",
   "name": "python",
   "nbconvert_exporter": "python",
   "pygments_lexer": "ipython3",
   "version": "3.8.12"
  },
  "toc": {
   "base_numbering": 1,
   "nav_menu": {},
   "number_sections": true,
   "sideBar": true,
   "skip_h1_title": false,
   "title_cell": "Table of Contents",
   "title_sidebar": "Contents",
   "toc_cell": false,
   "toc_position": {},
   "toc_section_display": true,
   "toc_window_display": false
  }
 },
 "nbformat": 4,
 "nbformat_minor": 5
}
