{
 "cells": [
  {
   "cell_type": "markdown",
   "id": "4da7e2d8",
   "metadata": {},
   "source": [
    "## importings "
   ]
  },
  {
   "cell_type": "code",
   "execution_count": 290,
   "id": "1716b52c",
   "metadata": {},
   "outputs": [],
   "source": [
    "import pandas as pd\n",
    "import numpy as np"
   ]
  },
  {
   "cell_type": "markdown",
   "id": "73fab450",
   "metadata": {},
   "source": [
    "## Chose a ticker"
   ]
  },
  {
   "cell_type": "code",
   "execution_count": 291,
   "id": "3efb81cc",
   "metadata": {},
   "outputs": [],
   "source": [
    "ticker=\"AMZN\""
   ]
  },
  {
   "cell_type": "markdown",
   "id": "f20ffe9e",
   "metadata": {},
   "source": [
    "## Stocks Data"
   ]
  },
  {
   "cell_type": "code",
   "execution_count": 292,
   "id": "8d481ad9",
   "metadata": {},
   "outputs": [],
   "source": [
    "# get the stock data\n",
    "from google.cloud import storage\n",
    "def get_stock_data_from_gcp(nrows=10000, local=False, optimize=False, ticker=None, **kwargs):\n",
    "    \"\"\"method to get the training data (or a portion of it) from google cloud bucket\"\"\"\n",
    "    # Add Client() here\n",
    "    client = storage.Client()\n",
    "    if local:\n",
    "        path = \"data/data_data_10Mill.csv\"\n",
    "    else:\n",
    "        path = \"gs://stock-news-pred-bucket/stock_prices\"\n",
    "    df_stocks = pd.read_csv(path, sep=\"\\t\")#add nrows after if you want to select a specific number of row\n",
    "    df_stocks.rename(columns={\"Unnamed: 0\":\"date\"}, inplace=True)\n",
    "    df = df_stocks.sort_values([\"date\"], ascending=True)\n",
    "    \n",
    "    if ticker:\n",
    "        df = df_stocks[[\"date\", ticker]]\n",
    "        df[\"date\"] = pd.to_datetime(df['date'], infer_datetime_format=True)\n",
    "        \n",
    "    return df\n"
   ]
  },
  {
   "cell_type": "code",
   "execution_count": 293,
   "id": "55a55e7c",
   "metadata": {},
   "outputs": [],
   "source": [
    "#df_stocks = get_stock_data_from_gcp()"
   ]
  },
  {
   "cell_type": "code",
   "execution_count": 294,
   "id": "0b3cf321",
   "metadata": {},
   "outputs": [],
   "source": [
    "#df_stocks"
   ]
  },
  {
   "cell_type": "code",
   "execution_count": 295,
   "id": "0b9c5004",
   "metadata": {},
   "outputs": [
    {
     "name": "stderr",
     "output_type": "stream",
     "text": [
      "/tmp/ipykernel_3498/1200910319.py:17: SettingWithCopyWarning: \n",
      "A value is trying to be set on a copy of a slice from a DataFrame.\n",
      "Try using .loc[row_indexer,col_indexer] = value instead\n",
      "\n",
      "See the caveats in the documentation: https://pandas.pydata.org/pandas-docs/stable/user_guide/indexing.html#returning-a-view-versus-a-copy\n",
      "  df[\"date\"] = pd.to_datetime(df['date'], infer_datetime_format=True)\n"
     ]
    }
   ],
   "source": [
    "df_stocks = get_stock_data_from_gcp(ticker=ticker)"
   ]
  },
  {
   "cell_type": "code",
   "execution_count": 296,
   "id": "ecfd89e1",
   "metadata": {},
   "outputs": [
    {
     "data": {
      "text/html": [
       "<div>\n",
       "<style scoped>\n",
       "    .dataframe tbody tr th:only-of-type {\n",
       "        vertical-align: middle;\n",
       "    }\n",
       "\n",
       "    .dataframe tbody tr th {\n",
       "        vertical-align: top;\n",
       "    }\n",
       "\n",
       "    .dataframe thead th {\n",
       "        text-align: right;\n",
       "    }\n",
       "</style>\n",
       "<table border=\"1\" class=\"dataframe\">\n",
       "  <thead>\n",
       "    <tr style=\"text-align: right;\">\n",
       "      <th></th>\n",
       "      <th>date</th>\n",
       "      <th>AMZN</th>\n",
       "    </tr>\n",
       "  </thead>\n",
       "  <tbody>\n",
       "    <tr>\n",
       "      <th>0</th>\n",
       "      <td>2021-11-22</td>\n",
       "      <td>3572.57</td>\n",
       "    </tr>\n",
       "    <tr>\n",
       "      <th>1</th>\n",
       "      <td>2021-11-19</td>\n",
       "      <td>3676.57</td>\n",
       "    </tr>\n",
       "    <tr>\n",
       "      <th>2</th>\n",
       "      <td>2021-11-18</td>\n",
       "      <td>3696.06</td>\n",
       "    </tr>\n",
       "    <tr>\n",
       "      <th>3</th>\n",
       "      <td>2021-11-17</td>\n",
       "      <td>3549.00</td>\n",
       "    </tr>\n",
       "    <tr>\n",
       "      <th>4</th>\n",
       "      <td>2021-11-16</td>\n",
       "      <td>3540.70</td>\n",
       "    </tr>\n",
       "    <tr>\n",
       "      <th>...</th>\n",
       "      <td>...</td>\n",
       "      <td>...</td>\n",
       "    </tr>\n",
       "    <tr>\n",
       "      <th>5547</th>\n",
       "      <td>1999-11-05</td>\n",
       "      <td>64.94</td>\n",
       "    </tr>\n",
       "    <tr>\n",
       "      <th>5548</th>\n",
       "      <td>1999-11-04</td>\n",
       "      <td>63.06</td>\n",
       "    </tr>\n",
       "    <tr>\n",
       "      <th>5549</th>\n",
       "      <td>1999-11-03</td>\n",
       "      <td>65.81</td>\n",
       "    </tr>\n",
       "    <tr>\n",
       "      <th>5550</th>\n",
       "      <td>1999-11-02</td>\n",
       "      <td>66.44</td>\n",
       "    </tr>\n",
       "    <tr>\n",
       "      <th>5551</th>\n",
       "      <td>1999-11-01</td>\n",
       "      <td>69.13</td>\n",
       "    </tr>\n",
       "  </tbody>\n",
       "</table>\n",
       "<p>5552 rows × 2 columns</p>\n",
       "</div>"
      ],
      "text/plain": [
       "           date     AMZN\n",
       "0    2021-11-22  3572.57\n",
       "1    2021-11-19  3676.57\n",
       "2    2021-11-18  3696.06\n",
       "3    2021-11-17  3549.00\n",
       "4    2021-11-16  3540.70\n",
       "...         ...      ...\n",
       "5547 1999-11-05    64.94\n",
       "5548 1999-11-04    63.06\n",
       "5549 1999-11-03    65.81\n",
       "5550 1999-11-02    66.44\n",
       "5551 1999-11-01    69.13\n",
       "\n",
       "[5552 rows x 2 columns]"
      ]
     },
     "execution_count": 296,
     "metadata": {},
     "output_type": "execute_result"
    }
   ],
   "source": [
    "df_stocks"
   ]
  },
  {
   "cell_type": "markdown",
   "id": "1e2dedb8",
   "metadata": {},
   "source": [
    "## Get the sentiment"
   ]
  },
  {
   "cell_type": "code",
   "execution_count": 297,
   "id": "e052b2ff",
   "metadata": {},
   "outputs": [],
   "source": [
    "# get the data from GCP\n",
    "from google.cloud import storage\n",
    "def get_sentiment_news_data_from_gcp(nrows=10000, local=False, optimize=False, ticker=None, **kwargs):\n",
    "    \"\"\"method to get the training data (or a portion of it) from google cloud bucket\"\"\"\n",
    "    # Add Client() here\n",
    "    client = storage.Client()\n",
    "    if local:\n",
    "        path = \"data/data_data_10Mill.csv\"\n",
    "    else:\n",
    "        path = \"gs://stock-news-pred-bucket/Stocks_news_final_to_use.csv\"\n",
    "    sentiment = pd.read_csv(path)#add nrows after if you want to select a specific number of row\n",
    "    sentiment = sentiment[['date', 'ticker', 'class_label']]\n",
    "    sentiment[\"date\"] = pd.to_datetime(sentiment[\"date\"] , infer_datetime_format=True)\n",
    "    sentiment.set_index([\"date\"], inplace=True)\n",
    "    if ticker:\n",
    "        sentiment_ticker = sentiment[sentiment['ticker'] == ticker]\n",
    "        sentiment_ticker.drop(columns=['ticker'], inplace=True)\n",
    "        return sentiment_ticker\n",
    "    else:\n",
    "        return sentiment"
   ]
  },
  {
   "cell_type": "code",
   "execution_count": 298,
   "id": "58431025",
   "metadata": {},
   "outputs": [
    {
     "name": "stderr",
     "output_type": "stream",
     "text": [
      "/home/frcloers/.pyenv/versions/3.8.12/envs/lewagon/lib/python3.8/site-packages/pandas/core/frame.py:4906: SettingWithCopyWarning: \n",
      "A value is trying to be set on a copy of a slice from a DataFrame\n",
      "\n",
      "See the caveats in the documentation: https://pandas.pydata.org/pandas-docs/stable/user_guide/indexing.html#returning-a-view-versus-a-copy\n",
      "  return super().drop(\n"
     ]
    }
   ],
   "source": [
    "sentiment = get_sentiment_news_data_from_gcp(ticker=ticker)"
   ]
  },
  {
   "cell_type": "code",
   "execution_count": 308,
   "id": "3337e452",
   "metadata": {},
   "outputs": [],
   "source": [
    "sentiment = get_sentiment_news_data_from_gcp()"
   ]
  },
  {
   "cell_type": "code",
   "execution_count": 314,
   "id": "6b2512ee",
   "metadata": {},
   "outputs": [
    {
     "data": {
      "text/plain": [
       "array(['AAPL', 'GOOGL', 'MSFT'], dtype=object)"
      ]
     },
     "execution_count": 314,
     "metadata": {},
     "output_type": "execute_result"
    }
   ],
   "source": [
    "sentiment.ticker.unique()"
   ]
  },
  {
   "cell_type": "markdown",
   "id": "e3e50e79",
   "metadata": {},
   "source": [
    "## Get Twitter Data"
   ]
  },
  {
   "cell_type": "code",
   "execution_count": 300,
   "id": "f3c9f61b",
   "metadata": {},
   "outputs": [],
   "source": [
    "from google.cloud import storage\n",
    "def get_twitter_stocks_sentiment_from_gcp(nrows=10000, local=False, optimize=False, ticker=None, **kwargs):\n",
    "    \"\"\"method to get the training data (or a portion of it) from google cloud bucket\"\"\"\n",
    "    # Add Client() here\n",
    "    client = storage.Client()\n",
    "    if local:\n",
    "        path = \"data/data_data_10Mill.csv\"\n",
    "    else:\n",
    "        path = \"gs://stock-news-pred-bucket/Amazon1 twitter_stocks_sentiment.csv\"\n",
    "    \n",
    "    if ticker==\"AMZN\":\n",
    "        path = \"gs://stock-news-pred-bucket/Amazon1 twitter_stocks_sentiment.csv\"\n",
    "    if ticker==\"GOOGL\":\n",
    "        path = \"gs://stock-news-pred-bucket/Google1 twitter_stocks_sentiment.csv\"\n",
    "    if ticker==\"MSFT\":\n",
    "        path = \"gs://stock-news-pred-bucket/Microsoft1 twitter_stocks_sentiment.csv\"\n",
    "    if ticker==\"NFLX\":\n",
    "        path=\"gs://stock-news-pred-bucket/Netflix1 twitter_stocks_sentiment.csv\"\n",
    "        \n",
    "    df = pd.read_csv(path, index_col= False)#add nrows after if you want to select a specific number of row\n",
    "    df.drop(columns=[\"Unnamed: 0\"], inplace=True)\n",
    "    df.rename(columns={\"class_label\": \"twitter_label\"}, inplace=True)\n",
    "    df[\"date\"] = pd.to_datetime(df[\"date\"] , infer_datetime_format=True)\n",
    "\n",
    "    return df"
   ]
  },
  {
   "cell_type": "code",
   "execution_count": 301,
   "id": "00f2acf7",
   "metadata": {},
   "outputs": [
    {
     "data": {
      "text/html": [
       "<div>\n",
       "<style scoped>\n",
       "    .dataframe tbody tr th:only-of-type {\n",
       "        vertical-align: middle;\n",
       "    }\n",
       "\n",
       "    .dataframe tbody tr th {\n",
       "        vertical-align: top;\n",
       "    }\n",
       "\n",
       "    .dataframe thead th {\n",
       "        text-align: right;\n",
       "    }\n",
       "</style>\n",
       "<table border=\"1\" class=\"dataframe\">\n",
       "  <thead>\n",
       "    <tr style=\"text-align: right;\">\n",
       "      <th></th>\n",
       "      <th>date</th>\n",
       "      <th>twitter_label</th>\n",
       "    </tr>\n",
       "  </thead>\n",
       "  <tbody>\n",
       "    <tr>\n",
       "      <th>0</th>\n",
       "      <td>2020-11-26</td>\n",
       "      <td>0.352941</td>\n",
       "    </tr>\n",
       "    <tr>\n",
       "      <th>1</th>\n",
       "      <td>2020-11-27</td>\n",
       "      <td>0.666667</td>\n",
       "    </tr>\n",
       "    <tr>\n",
       "      <th>2</th>\n",
       "      <td>2020-11-28</td>\n",
       "      <td>0.428571</td>\n",
       "    </tr>\n",
       "    <tr>\n",
       "      <th>3</th>\n",
       "      <td>2020-11-29</td>\n",
       "      <td>0.142857</td>\n",
       "    </tr>\n",
       "    <tr>\n",
       "      <th>4</th>\n",
       "      <td>2020-11-30</td>\n",
       "      <td>0.666667</td>\n",
       "    </tr>\n",
       "    <tr>\n",
       "      <th>...</th>\n",
       "      <td>...</td>\n",
       "      <td>...</td>\n",
       "    </tr>\n",
       "    <tr>\n",
       "      <th>360</th>\n",
       "      <td>2021-11-21</td>\n",
       "      <td>0.600000</td>\n",
       "    </tr>\n",
       "    <tr>\n",
       "      <th>361</th>\n",
       "      <td>2021-11-22</td>\n",
       "      <td>0.463415</td>\n",
       "    </tr>\n",
       "    <tr>\n",
       "      <th>362</th>\n",
       "      <td>2021-11-23</td>\n",
       "      <td>0.311475</td>\n",
       "    </tr>\n",
       "    <tr>\n",
       "      <th>363</th>\n",
       "      <td>2021-11-24</td>\n",
       "      <td>0.459459</td>\n",
       "    </tr>\n",
       "    <tr>\n",
       "      <th>364</th>\n",
       "      <td>2021-11-25</td>\n",
       "      <td>0.562500</td>\n",
       "    </tr>\n",
       "  </tbody>\n",
       "</table>\n",
       "<p>365 rows × 2 columns</p>\n",
       "</div>"
      ],
      "text/plain": [
       "          date  twitter_label\n",
       "0   2020-11-26       0.352941\n",
       "1   2020-11-27       0.666667\n",
       "2   2020-11-28       0.428571\n",
       "3   2020-11-29       0.142857\n",
       "4   2020-11-30       0.666667\n",
       "..         ...            ...\n",
       "360 2021-11-21       0.600000\n",
       "361 2021-11-22       0.463415\n",
       "362 2021-11-23       0.311475\n",
       "363 2021-11-24       0.459459\n",
       "364 2021-11-25       0.562500\n",
       "\n",
       "[365 rows x 2 columns]"
      ]
     },
     "execution_count": 301,
     "metadata": {},
     "output_type": "execute_result"
    }
   ],
   "source": [
    "df_twitter = get_twitter_stocks_sentiment_from_gcp(ticker=ticker)\n",
    "df_twitter"
   ]
  },
  {
   "cell_type": "markdown",
   "id": "7c68b6f7",
   "metadata": {},
   "source": [
    "## Merging Datasets"
   ]
  },
  {
   "cell_type": "code",
   "execution_count": 302,
   "id": "a028389f",
   "metadata": {},
   "outputs": [],
   "source": [
    "def merge_data(df_stocks, df_news, df_twitter):\n",
    "    df = pd.merge(df_stocks, df_news, on='date', how='outer')\n",
    "    df_twitter_merge = pd.merge(df, df_twitter, on='date', how='outer')\n",
    "    df_twitter_merge.rename(columns={\"class_label\": \"news_label\"}, inplace= True)\n",
    "    df_twitter_merge.sort_values([\"date\"], inplace=True)\n",
    "    mask = df_twitter_merge[\"news_label\"].notnull()==True\n",
    "    new_df = df_twitter_merge[mask]\n",
    "    new_df.iloc[:,1].interpolate(method= \"linear\", inplace= True)\n",
    "    #min_date = new_df[\"date\"].min()\n",
    "    #new_df = df.loc[min_date:,:]\n",
    "    new_df.fillna(value=-1, inplace=True)\n",
    "    \n",
    "    return new_df"
   ]
  },
  {
   "cell_type": "code",
   "execution_count": 303,
   "id": "4ae874b1",
   "metadata": {},
   "outputs": [
    {
     "name": "stderr",
     "output_type": "stream",
     "text": [
      "/home/frcloers/.pyenv/versions/3.8.12/envs/lewagon/lib/python3.8/site-packages/pandas/core/frame.py:5176: SettingWithCopyWarning: \n",
      "A value is trying to be set on a copy of a slice from a DataFrame\n",
      "\n",
      "See the caveats in the documentation: https://pandas.pydata.org/pandas-docs/stable/user_guide/indexing.html#returning-a-view-versus-a-copy\n",
      "  return super().fillna(\n"
     ]
    }
   ],
   "source": [
    "df = merge_data(df_stocks, sentiment, df_twitter)"
   ]
  },
  {
   "cell_type": "code",
   "execution_count": 306,
   "id": "09cefd9b",
   "metadata": {},
   "outputs": [
    {
     "data": {
      "text/html": [
       "<div>\n",
       "<style scoped>\n",
       "    .dataframe tbody tr th:only-of-type {\n",
       "        vertical-align: middle;\n",
       "    }\n",
       "\n",
       "    .dataframe tbody tr th {\n",
       "        vertical-align: top;\n",
       "    }\n",
       "\n",
       "    .dataframe thead th {\n",
       "        text-align: right;\n",
       "    }\n",
       "</style>\n",
       "<table border=\"1\" class=\"dataframe\">\n",
       "  <thead>\n",
       "    <tr style=\"text-align: right;\">\n",
       "      <th></th>\n",
       "      <th>date</th>\n",
       "      <th>AMZN</th>\n",
       "      <th>news_label</th>\n",
       "      <th>twitter_label</th>\n",
       "    </tr>\n",
       "  </thead>\n",
       "  <tbody>\n",
       "  </tbody>\n",
       "</table>\n",
       "</div>"
      ],
      "text/plain": [
       "Empty DataFrame\n",
       "Columns: [date, AMZN, news_label, twitter_label]\n",
       "Index: []"
      ]
     },
     "execution_count": 306,
     "metadata": {},
     "output_type": "execute_result"
    }
   ],
   "source": [
    "df"
   ]
  },
  {
   "cell_type": "code",
   "execution_count": 305,
   "id": "354a5257",
   "metadata": {},
   "outputs": [
    {
     "ename": "ValueError",
     "evalue": "Found array with 0 sample(s) (shape=(0, 1)) while a minimum of 1 is required by MinMaxScaler.",
     "output_type": "error",
     "traceback": [
      "\u001b[0;31m---------------------------------------------------------------------------\u001b[0m",
      "\u001b[0;31mValueError\u001b[0m                                Traceback (most recent call last)",
      "\u001b[0;32m/tmp/ipykernel_3498/296687993.py\u001b[0m in \u001b[0;36m<module>\u001b[0;34m\u001b[0m\n\u001b[1;32m      5\u001b[0m \u001b[0;34m\u001b[0m\u001b[0m\n\u001b[1;32m      6\u001b[0m \u001b[0;31m# FIT IT ONLY ON AMZN\u001b[0m\u001b[0;34m\u001b[0m\u001b[0;34m\u001b[0m\u001b[0;34m\u001b[0m\u001b[0m\n\u001b[0;32m----> 7\u001b[0;31m \u001b[0mscaler\u001b[0m\u001b[0;34m.\u001b[0m\u001b[0mfit\u001b[0m\u001b[0;34m(\u001b[0m\u001b[0mdf\u001b[0m\u001b[0;34m[\u001b[0m\u001b[0;34m[\u001b[0m\u001b[0mticker\u001b[0m\u001b[0;34m]\u001b[0m\u001b[0;34m]\u001b[0m\u001b[0;34m)\u001b[0m\u001b[0;34m\u001b[0m\u001b[0;34m\u001b[0m\u001b[0m\n\u001b[0m\u001b[1;32m      8\u001b[0m \u001b[0;34m\u001b[0m\u001b[0m\n\u001b[1;32m      9\u001b[0m \u001b[0;31m# LET'S CREATE A COPY OF MERGED_DF\u001b[0m\u001b[0;34m\u001b[0m\u001b[0;34m\u001b[0m\u001b[0;34m\u001b[0m\u001b[0m\n",
      "\u001b[0;32m~/.pyenv/versions/3.8.12/envs/lewagon/lib/python3.8/site-packages/sklearn/preprocessing/_data.py\u001b[0m in \u001b[0;36mfit\u001b[0;34m(self, X, y)\u001b[0m\n\u001b[1;32m    337\u001b[0m         \u001b[0;31m# Reset internal state before fitting\u001b[0m\u001b[0;34m\u001b[0m\u001b[0;34m\u001b[0m\u001b[0;34m\u001b[0m\u001b[0m\n\u001b[1;32m    338\u001b[0m         \u001b[0mself\u001b[0m\u001b[0;34m.\u001b[0m\u001b[0m_reset\u001b[0m\u001b[0;34m(\u001b[0m\u001b[0;34m)\u001b[0m\u001b[0;34m\u001b[0m\u001b[0;34m\u001b[0m\u001b[0m\n\u001b[0;32m--> 339\u001b[0;31m         \u001b[0;32mreturn\u001b[0m \u001b[0mself\u001b[0m\u001b[0;34m.\u001b[0m\u001b[0mpartial_fit\u001b[0m\u001b[0;34m(\u001b[0m\u001b[0mX\u001b[0m\u001b[0;34m,\u001b[0m \u001b[0my\u001b[0m\u001b[0;34m)\u001b[0m\u001b[0;34m\u001b[0m\u001b[0;34m\u001b[0m\u001b[0m\n\u001b[0m\u001b[1;32m    340\u001b[0m \u001b[0;34m\u001b[0m\u001b[0m\n\u001b[1;32m    341\u001b[0m     \u001b[0;32mdef\u001b[0m \u001b[0mpartial_fit\u001b[0m\u001b[0;34m(\u001b[0m\u001b[0mself\u001b[0m\u001b[0;34m,\u001b[0m \u001b[0mX\u001b[0m\u001b[0;34m,\u001b[0m \u001b[0my\u001b[0m\u001b[0;34m=\u001b[0m\u001b[0;32mNone\u001b[0m\u001b[0;34m)\u001b[0m\u001b[0;34m:\u001b[0m\u001b[0;34m\u001b[0m\u001b[0;34m\u001b[0m\u001b[0m\n",
      "\u001b[0;32m~/.pyenv/versions/3.8.12/envs/lewagon/lib/python3.8/site-packages/sklearn/preprocessing/_data.py\u001b[0m in \u001b[0;36mpartial_fit\u001b[0;34m(self, X, y)\u001b[0m\n\u001b[1;32m    369\u001b[0m                             \"Consider using MaxAbsScaler instead.\")\n\u001b[1;32m    370\u001b[0m \u001b[0;34m\u001b[0m\u001b[0m\n\u001b[0;32m--> 371\u001b[0;31m         X = check_array(X,\n\u001b[0m\u001b[1;32m    372\u001b[0m                         \u001b[0mestimator\u001b[0m\u001b[0;34m=\u001b[0m\u001b[0mself\u001b[0m\u001b[0;34m,\u001b[0m \u001b[0mdtype\u001b[0m\u001b[0;34m=\u001b[0m\u001b[0mFLOAT_DTYPES\u001b[0m\u001b[0;34m,\u001b[0m\u001b[0;34m\u001b[0m\u001b[0;34m\u001b[0m\u001b[0m\n\u001b[1;32m    373\u001b[0m                         force_all_finite=\"allow-nan\")\n",
      "\u001b[0;32m~/.pyenv/versions/3.8.12/envs/lewagon/lib/python3.8/site-packages/sklearn/utils/validation.py\u001b[0m in \u001b[0;36mcheck_array\u001b[0;34m(array, accept_sparse, accept_large_sparse, dtype, order, copy, force_all_finite, ensure_2d, allow_nd, ensure_min_samples, ensure_min_features, warn_on_dtype, estimator)\u001b[0m\n\u001b[1;32m    565\u001b[0m         \u001b[0mn_samples\u001b[0m \u001b[0;34m=\u001b[0m \u001b[0m_num_samples\u001b[0m\u001b[0;34m(\u001b[0m\u001b[0marray\u001b[0m\u001b[0;34m)\u001b[0m\u001b[0;34m\u001b[0m\u001b[0;34m\u001b[0m\u001b[0m\n\u001b[1;32m    566\u001b[0m         \u001b[0;32mif\u001b[0m \u001b[0mn_samples\u001b[0m \u001b[0;34m<\u001b[0m \u001b[0mensure_min_samples\u001b[0m\u001b[0;34m:\u001b[0m\u001b[0;34m\u001b[0m\u001b[0;34m\u001b[0m\u001b[0m\n\u001b[0;32m--> 567\u001b[0;31m             raise ValueError(\"Found array with %d sample(s) (shape=%s) while a\"\n\u001b[0m\u001b[1;32m    568\u001b[0m                              \u001b[0;34m\" minimum of %d is required%s.\"\u001b[0m\u001b[0;34m\u001b[0m\u001b[0;34m\u001b[0m\u001b[0m\n\u001b[1;32m    569\u001b[0m                              % (n_samples, array.shape, ensure_min_samples,\n",
      "\u001b[0;31mValueError\u001b[0m: Found array with 0 sample(s) (shape=(0, 1)) while a minimum of 1 is required by MinMaxScaler."
     ]
    }
   ],
   "source": [
    "from sklearn.preprocessing import StandardScaler, MinMaxScaler\n",
    "\n",
    "# INSTANTIATE THE SCALER\n",
    "scaler = MinMaxScaler()\n",
    "\n",
    "# FIT IT ONLY ON AMZN\n",
    "scaler.fit(df[[ticker]])\n",
    "\n",
    "# LET'S CREATE A COPY OF MERGED_DF\n",
    "data_scaled = df.copy()\n"
   ]
  },
  {
   "cell_type": "code",
   "execution_count": null,
   "id": "96d90e74",
   "metadata": {},
   "outputs": [],
   "source": [
    "# AND TRANSFORM ONLY THE AMZN COLUMN\n",
    "data_scaled[ticker] = scaler.transform(data_scaled[[ticker]])\n",
    "\n",
    "# NOW LOOK AT DATA_SCALED\n",
    "data_scaled.tail(20)"
   ]
  },
  {
   "cell_type": "code",
   "execution_count": null,
   "id": "ed1de323",
   "metadata": {},
   "outputs": [],
   "source": [
    "data_scaled.to_csv(f\"scaled_for_{ticker}\")"
   ]
  },
  {
   "cell_type": "markdown",
   "id": "102b9d40",
   "metadata": {},
   "source": [
    "## prepare the LSTM Model"
   ]
  },
  {
   "cell_type": "code",
   "execution_count": 208,
   "id": "b623f34f",
   "metadata": {},
   "outputs": [],
   "source": [
    "# SETTING THE DATE AS INDEX\n",
    "data_scaled.set_index([\"date\"], inplace= True)"
   ]
  },
  {
   "cell_type": "code",
   "execution_count": 209,
   "id": "c90a2467",
   "metadata": {},
   "outputs": [
    {
     "data": {
      "image/png": "[encoded data removed]",
      "text/plain": [
       "<Figure size 1224x144 with 1 Axes>"
      ]
     },
     "metadata": {
      "needs_background": "light"
     },
     "output_type": "display_data"
    },
    {
     "data": {
      "image/png": "[encoded data removed]",
      "text/plain": [
       "<Figure size 1224x144 with 1 Axes>"
      ]
     },
     "metadata": {
      "needs_background": "light"
     },
     "output_type": "display_data"
    },
    {
     "data": {
      "image/png": "[encoded data removed]",
      "text/plain": [
       "<Figure size 1224x144 with 1 Axes>"
      ]
     },
     "metadata": {
      "needs_background": "light"
     },
     "output_type": "display_data"
    }
   ],
   "source": [
    "import matplotlib.pyplot as plt\n",
    "%matplotlib inline\n",
    "\n",
    "for column in data_scaled.columns:\n",
    "    if column == ticker: color = \"orange\"\n",
    "    if column == \"class_label\": color = \"blue\" \n",
    "    if column == \"twitter_label\": color = \"purple\" \n",
    "    data_scaled[column].plot(figsize=(17, 2), color=color)\n",
    "    plt.title(column)\n",
    "    plt.show()"
   ]
  },
  {
   "cell_type": "code",
   "execution_count": 210,
   "id": "ff43ad25",
   "metadata": {},
   "outputs": [],
   "source": [
    "data_scaled = data_scaled.drop_duplicates()"
   ]
  },
  {
   "cell_type": "markdown",
   "id": "06376e6c",
   "metadata": {},
   "source": [
    "## Functions for the input shape of the model"
   ]
  },
  {
   "cell_type": "code",
   "execution_count": 211,
   "id": "db1f1522",
   "metadata": {},
   "outputs": [],
   "source": [
    "import numpy as np\n",
    "\n",
    "def subsample_sequence(df, length, HORIZON=0):\n",
    "    \"\"\"\n",
    "    Given the initial dataframe `df`, return a shorter dataframe sequence of length `length`.\n",
    "    This shorter sequence should be selected at random\n",
    "    \"\"\"\n",
    "    last_possible = df.shape[0] - length\n",
    "    \n",
    "    random_start = np.random.randint(0, last_possible)\n",
    "    df_sample = df[random_start: random_start+length+HORIZON]\n",
    "    # X_sample = df_sample[random_start: random_start+length]\n",
    "    # y_sample = df_sample[random_start + length:]\n",
    "    return df_sample"
   ]
  },
  {
   "cell_type": "code",
   "execution_count": 212,
   "id": "7264ec00",
   "metadata": {},
   "outputs": [],
   "source": [
    "def split_subsample_sequence(df, length, ticker):\n",
    "    '''Create one single random (X,y) pair'''\n",
    "\n",
    "    df_subsample = subsample_sequence(df, length)\n",
    "    y_sample = df_subsample.iloc[length -1][ticker] # -1 means the future window\n",
    "    \n",
    "    X_sample = df_subsample[0:length -1]# -1 means the future window\n",
    "    X_sample = X_sample.values\n",
    "\n",
    "    return np.array(X_sample), np.array(y_sample)"
   ]
  },
  {
   "cell_type": "code",
   "execution_count": 213,
   "id": "33acd27e",
   "metadata": {},
   "outputs": [],
   "source": [
    "def compute_means(X, df_mean):\n",
    "    # Compute means of X\n",
    "    means = X.mean()\n",
    "    \n",
    "    # Case if ALL values of at least one feature of X are NaN, then reaplace with the whole df_mean\n",
    "    if means.isna().sum() != 0:\n",
    "        means.fillna(df_mean, inplace=True)\n",
    "        \n",
    "    return means\n",
    "\n",
    "def split_subsample_sequence(df, length, ticker, df_mean=None):\n",
    "    '''Return one single random sample (X_sample, y_sample) containing one sequence each of length `length`'''\n",
    "    # Trick to save time during potential recursive calls\n",
    "    if df_mean is None:\n",
    "        df_mean = df.mean()\n",
    "\n",
    "    df_subsample = subsample_sequence(df, length)\n",
    "    \n",
    "    y_sample = df_subsample.iloc[length-1][ticker]\n",
    "    # Case y_sample is NaN: redraw !\n",
    "    if y_sample != y_sample: # A value is not equal to itself only for NaN\n",
    "            X_sample, y_sample = split_subsample_sequence(df, length, df_mean) # Recursive call !!!\n",
    "            return np.array(X_sample), np.array(y_sample)\n",
    "\n",
    "    X_sample = df_subsample[0:length-1]\n",
    "    # Case X_sample has some NaNs\n",
    "    if X_sample.isna().sum().sum() !=0:\n",
    "        X_sample = X_sample.fillna(compute_means(X_sample, df_mean))\n",
    "        X_sample = X_sample.values\n",
    "        \n",
    "    return np.array(X_sample), np.array(y_sample)"
   ]
  },
  {
   "cell_type": "code",
   "execution_count": 214,
   "id": "4c324b6b",
   "metadata": {},
   "outputs": [],
   "source": [
    "def get_X_y(df, n_sequences, length, ticker): #length = 30, n_sequence = 12, df(12month)\n",
    "    '''Return a list of samples (X, y)'''\n",
    "    \n",
    "    X, y = [], []\n",
    "\n",
    "    for i in range(n_sequences):\n",
    "        (xi, yi) = split_subsample_sequence(df, length, ticker)\n",
    "        X.append(xi)\n",
    "        y.append(yi)\n",
    "        \n",
    "    X = np.array(X)\n",
    "    y = np.array(y)\n",
    "\n",
    "    return X, y"
   ]
  },
  {
   "cell_type": "markdown",
   "id": "ef05f9cf",
   "metadata": {},
   "source": [
    "## Train test split"
   ]
  },
  {
   "cell_type": "code",
   "execution_count": 215,
   "id": "b4aa2230",
   "metadata": {},
   "outputs": [
    {
     "name": "stdout",
     "output_type": "stream",
     "text": [
      "(165, 3)\n",
      "(42, 3)\n"
     ]
    }
   ],
   "source": [
    "# len of train dataset should be 80%\n",
    "len_ = int(0.8*data_scaled.shape[0])\n",
    "df_train = data_scaled[:len_]\n",
    "df_test = data_scaled[len_:]\n",
    "print(df_train.shape)\n",
    "print(df_test.shape)"
   ]
  },
  {
   "cell_type": "markdown",
   "id": "6b4a113b",
   "metadata": {},
   "source": [
    "### Check the data "
   ]
  },
  {
   "cell_type": "code",
   "execution_count": 216,
   "id": "c7b589ed",
   "metadata": {},
   "outputs": [
    {
     "data": {
      "text/html": [
       "<div>\n",
       "<style scoped>\n",
       "    .dataframe tbody tr th:only-of-type {\n",
       "        vertical-align: middle;\n",
       "    }\n",
       "\n",
       "    .dataframe tbody tr th {\n",
       "        vertical-align: top;\n",
       "    }\n",
       "\n",
       "    .dataframe thead th {\n",
       "        text-align: right;\n",
       "    }\n",
       "</style>\n",
       "<table border=\"1\" class=\"dataframe\">\n",
       "  <thead>\n",
       "    <tr style=\"text-align: right;\">\n",
       "      <th></th>\n",
       "      <th>GOOGL</th>\n",
       "      <th>news_label</th>\n",
       "      <th>twitter_label</th>\n",
       "    </tr>\n",
       "    <tr>\n",
       "      <th>date</th>\n",
       "      <th></th>\n",
       "      <th></th>\n",
       "      <th></th>\n",
       "    </tr>\n",
       "  </thead>\n",
       "  <tbody>\n",
       "    <tr>\n",
       "      <th>2020-11-02</th>\n",
       "      <td>0.000000</td>\n",
       "      <td>0.0</td>\n",
       "      <td>-1.0</td>\n",
       "    </tr>\n",
       "    <tr>\n",
       "      <th>2020-11-03</th>\n",
       "      <td>0.015549</td>\n",
       "      <td>0.0</td>\n",
       "      <td>-1.0</td>\n",
       "    </tr>\n",
       "    <tr>\n",
       "      <th>2020-11-06</th>\n",
       "      <td>0.098663</td>\n",
       "      <td>0.5</td>\n",
       "      <td>-1.0</td>\n",
       "    </tr>\n",
       "    <tr>\n",
       "      <th>2020-11-09</th>\n",
       "      <td>0.099894</td>\n",
       "      <td>0.0</td>\n",
       "      <td>-1.0</td>\n",
       "    </tr>\n",
       "    <tr>\n",
       "      <th>2020-11-12</th>\n",
       "      <td>0.086342</td>\n",
       "      <td>0.5</td>\n",
       "      <td>-1.0</td>\n",
       "    </tr>\n",
       "  </tbody>\n",
       "</table>\n",
       "</div>"
      ],
      "text/plain": [
       "               GOOGL  news_label  twitter_label\n",
       "date                                           \n",
       "2020-11-02  0.000000         0.0           -1.0\n",
       "2020-11-03  0.015549         0.0           -1.0\n",
       "2020-11-06  0.098663         0.5           -1.0\n",
       "2020-11-09  0.099894         0.0           -1.0\n",
       "2020-11-12  0.086342         0.5           -1.0"
      ]
     },
     "execution_count": 216,
     "metadata": {},
     "output_type": "execute_result"
    }
   ],
   "source": [
    "df_train.head()"
   ]
  },
  {
   "cell_type": "code",
   "execution_count": 217,
   "id": "5309513a",
   "metadata": {},
   "outputs": [],
   "source": [
    "X_train, y_train = get_X_y(df_train, 200, 30, ticker) # 200 sequences of a length of 30 days\n",
    "X_test, y_test = get_X_y(df_test, 100, 30, ticker) # 200 sequences of a length of 30 days"
   ]
  },
  {
   "cell_type": "code",
   "execution_count": 218,
   "id": "aed7f972",
   "metadata": {},
   "outputs": [
    {
     "data": {
      "text/plain": [
       "((200, 29, 3), (200,))"
      ]
     },
     "execution_count": 218,
     "metadata": {},
     "output_type": "execute_result"
    }
   ],
   "source": [
    "X_train.shape, y_train.shape"
   ]
  },
  {
   "cell_type": "code",
   "execution_count": 219,
   "id": "175d2f74",
   "metadata": {},
   "outputs": [
    {
     "data": {
      "text/plain": [
       "((100, 29, 3), (100,))"
      ]
     },
     "execution_count": 219,
     "metadata": {},
     "output_type": "execute_result"
    }
   ],
   "source": [
    "X_test.shape, y_test.shape"
   ]
  },
  {
   "cell_type": "markdown",
   "id": "a25f0588",
   "metadata": {},
   "source": [
    "## Predict a baseline"
   ]
  },
  {
   "cell_type": "code",
   "execution_count": 220,
   "id": "02735ba6",
   "metadata": {},
   "outputs": [
    {
     "name": "stdout",
     "output_type": "stream",
     "text": [
      "Benchmark MAPE on the test set : 60 %\n"
     ]
    }
   ],
   "source": [
    "# We here decide to predict the mean of the train set y_train\n",
    "y_pred = np.mean(y_train)\n",
    "bench_res = np.mean(np.abs(y_pred - y_test)/y_test)*100\n",
    "\n",
    "print(f'Benchmark MAPE on the test set : {bench_res:.0f} %')"
   ]
  },
  {
   "cell_type": "code",
   "execution_count": 221,
   "id": "64c2ad2d",
   "metadata": {},
   "outputs": [
    {
     "name": "stdout",
     "output_type": "stream",
     "text": [
      "Benchmark MAPE on the test set : 1 %\n"
     ]
    }
   ],
   "source": [
    "# Or (better) we predict the last pollution value!\n",
    "y_pred_baseline = X_test[:,-1,0]\n",
    "bench_res = np.mean(np.abs(y_pred_baseline - y_test)/y_test)*100\n",
    "print(f'Benchmark MAPE on the test set : {bench_res:.0f} %')"
   ]
  },
  {
   "cell_type": "markdown",
   "id": "0c273fb5",
   "metadata": {},
   "source": [
    "## Model"
   ]
  },
  {
   "cell_type": "markdown",
   "id": "5cf8468b",
   "metadata": {},
   "source": [
    "### imports for the model"
   ]
  },
  {
   "cell_type": "code",
   "execution_count": 222,
   "id": "6d5b21d4",
   "metadata": {},
   "outputs": [],
   "source": [
    "from tensorflow.keras import models\n",
    "from tensorflow.keras import layers\n",
    "from tensorflow.keras import optimizers, metrics\n",
    "from tensorflow.keras.layers.experimental.preprocessing import Normalization\n",
    "from tensorflow.keras.callbacks import EarlyStopping\n",
    "import matplotlib.pyplot as plt"
   ]
  },
  {
   "cell_type": "markdown",
   "id": "f9aee889",
   "metadata": {},
   "source": [
    "### Model Init"
   ]
  },
  {
   "cell_type": "code",
   "execution_count": 223,
   "id": "36558ee7",
   "metadata": {},
   "outputs": [],
   "source": [
    "def init_model_2():\n",
    "    metric = metrics.MAPE\n",
    "    opt = optimizers.RMSprop(learning_rate=0.005)\n",
    "    \n",
    "    model = models.Sequential()\n",
    "    \n",
    "    model.add(layers.LSTM(20, return_sequences=True, activation='tanh'))\n",
    "    model.add(layers.LSTM(10, activation='tanh'))\n",
    "    \n",
    "    model.add(layers.Dense(5, activation='relu'))\n",
    "    model.add(layers.Dense(1, activation='linear'))\n",
    "    \n",
    "    model.compile(loss='mse', \n",
    "                  optimizer=opt, \n",
    "                  metrics=[metric])\n",
    "    \n",
    "    return model"
   ]
  },
  {
   "cell_type": "code",
   "execution_count": 224,
   "id": "f53bfeb8",
   "metadata": {},
   "outputs": [
    {
     "name": "stdout",
     "output_type": "stream",
     "text": [
      "Epoch 1/5\n",
      "5/5 [==============================] - 17s 1s/step - loss: 0.0686 - mean_absolute_percentage_error: 56.3807 - val_loss: 0.0140 - val_mean_absolute_percentage_error: 33.1528\n",
      "Epoch 2/5\n",
      "5/5 [==============================] - 1s 231ms/step - loss: 0.0069 - mean_absolute_percentage_error: 20.7165 - val_loss: 0.0148 - val_mean_absolute_percentage_error: 44.0862\n",
      "Epoch 3/5\n",
      "5/5 [==============================] - 1s 246ms/step - loss: 0.0102 - mean_absolute_percentage_error: 24.6425 - val_loss: 0.0037 - val_mean_absolute_percentage_error: 23.7537\n",
      "Epoch 4/5\n",
      "5/5 [==============================] - 1s 228ms/step - loss: 0.0047 - mean_absolute_percentage_error: 15.9672 - val_loss: 0.0067 - val_mean_absolute_percentage_error: 30.2069\n",
      "Epoch 5/5\n",
      "5/5 [==============================] - 1s 222ms/step - loss: 0.0066 - mean_absolute_percentage_error: 20.6781 - val_loss: 0.0051 - val_mean_absolute_percentage_error: 20.7534\n"
     ]
    }
   ],
   "source": [
    "model_2 = init_model_2()\n",
    "\n",
    "es = EarlyStopping(monitor='val_loss', patience=5, restore_best_weights=True)\n",
    "\n",
    "history_2 = model_2.fit(X_train, y_train,\n",
    "            validation_split=0.3,\n",
    "            epochs=5, \n",
    "            batch_size=32,\n",
    "            callbacks=[es], verbose=1)"
   ]
  },
  {
   "cell_type": "code",
   "execution_count": 225,
   "id": "74f799e9",
   "metadata": {},
   "outputs": [
    {
     "data": {
      "text/plain": [
       "[<matplotlib.lines.Line2D at 0x7efdafe54520>]"
      ]
     },
     "execution_count": 225,
     "metadata": {},
     "output_type": "execute_result"
    },
    {
     "data": {
      "image/png": "[encoded data removed]",
      "text/plain": [
       "<Figure size 432x288 with 1 Axes>"
      ]
     },
     "metadata": {
      "needs_background": "light"
     },
     "output_type": "display_data"
    }
   ],
   "source": [
    "import matplotlib.pyplot as plt\n",
    "plt.plot(history_2.history['mean_absolute_percentage_error'])\n",
    "plt.plot(history_2.history['val_mean_absolute_percentage_error'])"
   ]
  },
  {
   "cell_type": "code",
   "execution_count": 226,
   "id": "319c267a",
   "metadata": {},
   "outputs": [
    {
     "name": "stdout",
     "output_type": "stream",
     "text": [
      "4/4 [==============================] - 0s 57ms/step - loss: 0.1730 - mean_absolute_percentage_error: 42.6347\n",
      "MAPE on the test set : 43 %\n"
     ]
    }
   ],
   "source": [
    "res = model_2.evaluate(X_test, y_test, verbose=1)\n",
    "\n",
    "print(f'MAPE on the test set : {res[1]:.0f} %')"
   ]
  },
  {
   "cell_type": "code",
   "execution_count": 227,
   "id": "aa0e38eb",
   "metadata": {},
   "outputs": [
    {
     "data": {
      "text/plain": [
       "(100, 1)"
      ]
     },
     "execution_count": 227,
     "metadata": {},
     "output_type": "execute_result"
    }
   ],
   "source": [
    "predictions_2 = model_2.predict(X_test)\n",
    "predictions_2.shape"
   ]
  },
  {
   "cell_type": "code",
   "execution_count": 228,
   "id": "2e1d51b3",
   "metadata": {},
   "outputs": [
    {
     "data": {
      "text/plain": [
       "array([[2405.3926],\n",
       "       [2408.403 ],\n",
       "       [2402.0325],\n",
       "       [2363.678 ],\n",
       "       [2363.678 ],\n",
       "       [2410.6902],\n",
       "       [2395.609 ],\n",
       "       [2387.4148],\n",
       "       [2410.6902],\n",
       "       [2408.403 ]], dtype=float32)"
      ]
     },
     "execution_count": 228,
     "metadata": {},
     "output_type": "execute_result"
    }
   ],
   "source": [
    "unscaled_predictions_2 = scaler.inverse_transform(predictions_2)\n",
    "unscaled_predictions_2[0:10] # showing 10 predictions in the test set out of 100 "
   ]
  },
  {
   "cell_type": "code",
   "execution_count": 229,
   "id": "26e20816",
   "metadata": {},
   "outputs": [],
   "source": [
    "error = y_test.reshape(-1,1)-unscaled_predictions_2"
   ]
  },
  {
   "cell_type": "code",
   "execution_count": 230,
   "id": "a6db7e1a",
   "metadata": {},
   "outputs": [
    {
     "data": {
      "text/plain": [
       "((207, 29, 3), (207,))"
      ]
     },
     "execution_count": 230,
     "metadata": {},
     "output_type": "execute_result"
    }
   ],
   "source": [
    "#adapt on lenth of df\n",
    "X, y = get_X_y(data_scaled, len(df), 30, ticker)\n",
    "X.shape, y.shape"
   ]
  },
  {
   "cell_type": "code",
   "execution_count": 231,
   "id": "f8a2d4e5",
   "metadata": {},
   "outputs": [
    {
     "data": {
      "text/plain": [
       "array([[0.53871393],\n",
       "       [0.30996037],\n",
       "       [0.5481729 ],\n",
       "       [0.2311261 ],\n",
       "       [0.29874006],\n",
       "       [0.35387695],\n",
       "       [0.17766719],\n",
       "       [0.16961706],\n",
       "       [0.31253448],\n",
       "       [0.49774703]], dtype=float32)"
      ]
     },
     "execution_count": 231,
     "metadata": {},
     "output_type": "execute_result"
    }
   ],
   "source": [
    "predictions_X = model_2.predict(X)\n",
    "predictions_X[:10]"
   ]
  },
  {
   "cell_type": "code",
   "execution_count": 232,
   "id": "80a779e5",
   "metadata": {},
   "outputs": [
    {
     "data": {
      "text/plain": [
       "array([[2363.678 ],\n",
       "       [2049.725 ],\n",
       "       [2376.66  ],\n",
       "       [1941.5289],\n",
       "       [2034.3258],\n",
       "       [2109.9985],\n",
       "       [1868.1593],\n",
       "       [1857.111 ],\n",
       "       [2053.2578],\n",
       "       [2307.453 ]], dtype=float32)"
      ]
     },
     "execution_count": 232,
     "metadata": {},
     "output_type": "execute_result"
    }
   ],
   "source": [
    "unscaled_predictions_X = scaler.inverse_transform(predictions_X)\n",
    "unscaled_predictions_X[:10]"
   ]
  },
  {
   "cell_type": "code",
   "execution_count": 233,
   "id": "b9a81ef4",
   "metadata": {},
   "outputs": [
    {
     "name": "stderr",
     "output_type": "stream",
     "text": [
      "/tmp/ipykernel_3498/2637398465.py:2: SettingWithCopyWarning: \n",
      "A value is trying to be set on a copy of a slice from a DataFrame.\n",
      "Try using .loc[row_indexer,col_indexer] = value instead\n",
      "\n",
      "See the caveats in the documentation: https://pandas.pydata.org/pandas-docs/stable/user_guide/indexing.html#returning-a-view-versus-a-copy\n",
      "  df_true_pred[\"predictions\"]=unscaled_predictions_X\n"
     ]
    }
   ],
   "source": [
    "\n",
    "df_true_pred = df[[\"date\", ticker]]\n",
    "df_true_pred[\"predictions\"]=unscaled_predictions_X\n",
    "df_true_pred[\"ticker\"] = ticker"
   ]
  },
  {
   "cell_type": "code",
   "execution_count": 234,
   "id": "6f7dd3bb",
   "metadata": {},
   "outputs": [
    {
     "data": {
      "text/html": [
       "<div>\n",
       "<style scoped>\n",
       "    .dataframe tbody tr th:only-of-type {\n",
       "        vertical-align: middle;\n",
       "    }\n",
       "\n",
       "    .dataframe tbody tr th {\n",
       "        vertical-align: top;\n",
       "    }\n",
       "\n",
       "    .dataframe thead th {\n",
       "        text-align: right;\n",
       "    }\n",
       "</style>\n",
       "<table border=\"1\" class=\"dataframe\">\n",
       "  <thead>\n",
       "    <tr style=\"text-align: right;\">\n",
       "      <th></th>\n",
       "      <th>date</th>\n",
       "      <th>GOOGL</th>\n",
       "      <th>predictions</th>\n",
       "      <th>ticker</th>\n",
       "    </tr>\n",
       "  </thead>\n",
       "  <tbody>\n",
       "    <tr>\n",
       "      <th>266</th>\n",
       "      <td>2020-11-02</td>\n",
       "      <td>1624.32</td>\n",
       "      <td>2363.677979</td>\n",
       "      <td>GOOGL</td>\n",
       "    </tr>\n",
       "    <tr>\n",
       "      <th>265</th>\n",
       "      <td>2020-11-03</td>\n",
       "      <td>1645.66</td>\n",
       "      <td>2049.725098</td>\n",
       "      <td>GOOGL</td>\n",
       "    </tr>\n",
       "    <tr>\n",
       "      <th>262</th>\n",
       "      <td>2020-11-06</td>\n",
       "      <td>1759.73</td>\n",
       "      <td>2376.659912</td>\n",
       "      <td>GOOGL</td>\n",
       "    </tr>\n",
       "    <tr>\n",
       "      <th>261</th>\n",
       "      <td>2020-11-09</td>\n",
       "      <td>1761.42</td>\n",
       "      <td>1941.528931</td>\n",
       "      <td>GOOGL</td>\n",
       "    </tr>\n",
       "    <tr>\n",
       "      <th>258</th>\n",
       "      <td>2020-11-12</td>\n",
       "      <td>1742.82</td>\n",
       "      <td>2034.325806</td>\n",
       "      <td>GOOGL</td>\n",
       "    </tr>\n",
       "  </tbody>\n",
       "</table>\n",
       "</div>"
      ],
      "text/plain": [
       "          date    GOOGL  predictions ticker\n",
       "266 2020-11-02  1624.32  2363.677979  GOOGL\n",
       "265 2020-11-03  1645.66  2049.725098  GOOGL\n",
       "262 2020-11-06  1759.73  2376.659912  GOOGL\n",
       "261 2020-11-09  1761.42  1941.528931  GOOGL\n",
       "258 2020-11-12  1742.82  2034.325806  GOOGL"
      ]
     },
     "execution_count": 234,
     "metadata": {},
     "output_type": "execute_result"
    }
   ],
   "source": [
    "df_true_pred.head()"
   ]
  },
  {
   "cell_type": "code",
   "execution_count": 235,
   "id": "734fdbfd",
   "metadata": {},
   "outputs": [],
   "source": [
    "df_true_pred.to_csv(f\"LSTM_3features_{ticker}\")"
   ]
  },
  {
   "cell_type": "code",
   "execution_count": null,
   "id": "2b38c689",
   "metadata": {},
   "outputs": [],
   "source": []
  }
 ],
 "metadata": {
  "kernelspec": {
   "display_name": "Python 3 (ipykernel)",
   "language": "python",
   "name": "python3"
  },
  "language_info": {
   "codemirror_mode": {
    "name": "ipython",
    "version": 3
   },
   "file_extension": ".py",
   "mimetype": "text/x-python",
   "name": "python",
   "nbconvert_exporter": "python",
   "pygments_lexer": "ipython3",
   "version": "3.8.12"
  },
  "toc": {
   "base_numbering": 1,
   "nav_menu": {},
   "number_sections": true,
   "sideBar": true,
   "skip_h1_title": false,
   "title_cell": "Table of Contents",
   "title_sidebar": "Contents",
   "toc_cell": false,
   "toc_position": {},
   "toc_section_display": true,
   "toc_window_display": true
  }
 },
 "nbformat": 4,
 "nbformat_minor": 5
}
